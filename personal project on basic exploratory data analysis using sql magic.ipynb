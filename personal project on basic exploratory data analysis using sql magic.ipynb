{
 "cells": [
  {
   "cell_type": "markdown",
   "id": "55fdbe93-f075-4b64-9c18-54d326bb8b23",
   "metadata": {},
   "source": [
    "# Basics of SQL Magic and setting up SQLITE database engine and basic of exploratory data analysis"
   ]
  },
  {
   "cell_type": "markdown",
   "id": "d01e0e42-5208-4078-b2e4-631d197c692e",
   "metadata": {},
   "source": [
    "**This notebook is a personal project where I collected data on the fleet of buses of Punjab from their public [website](https://punjabroadways.punjab.gov.in/en/bus-fleet, \"Punjab Bus Fleet\") and tried to do perform some basic exploratory data analysis and tried to plot basic bargraph using matplotlib and seaborn**"
   ]
  },
  {
   "cell_type": "markdown",
   "id": "71df940d-743c-4512-a7bf-1f969d1cc37a",
   "metadata": {},
   "source": [
    "## In this notebook mainly we will be focusing on sql magic"
   ]
  },
  {
   "cell_type": "code",
   "execution_count": 4,
   "id": "070a3e64-68d0-4540-af34-d0045e4735ab",
   "metadata": {},
   "outputs": [],
   "source": [
    "# Uncomment the following line if i-python is not installed\n",
    "# !pip install ipython-sql"
   ]
  },
  {
   "cell_type": "markdown",
   "id": "8ed6273a-7dad-4728-8ff5-8dc762ca131b",
   "metadata": {},
   "source": [
    "## SQLITE3 helps in setting a serverless self contained database engine"
   ]
  },
  {
   "cell_type": "code",
   "execution_count": 6,
   "id": "cd597845-c2ca-42e2-b06d-f715e8202830",
   "metadata": {},
   "outputs": [],
   "source": [
    "import sqlite3"
   ]
  },
  {
   "cell_type": "markdown",
   "id": "d3079b3b-779c-4fb2-bb09-8fe90f65df0c",
   "metadata": {},
   "source": [
    "## Loading SQL Magic\n",
    "+ SQL magic is provided by the ipython-sql extension\n",
    "+ IN sql magic we have special commands that starts with % that can run sql in python environment\n",
    "+ We can use %sql to execute a single line that contains sql this is called line magic\n",
    "+ We can use %%sql to to execute sql in the whole cell this is called cell magic\n",
    "+ we can load the ipython-sql extension with %load_ext sql"
   ]
  },
  {
   "cell_type": "code",
   "execution_count": 8,
   "id": "5783c2b8-8a74-4332-85c4-bd5f5a1ffd4e",
   "metadata": {},
   "outputs": [],
   "source": [
    "%load_ext sql"
   ]
  },
  {
   "cell_type": "markdown",
   "id": "b00b3572-1ff7-4c7e-9011-dfd142a1ca09",
   "metadata": {},
   "source": [
    "## Connecting sqlite database and sql magic\n",
    "+ after we have loaded the sql magic extension we have to connect it to sqlite database"
   ]
  },
  {
   "cell_type": "code",
   "execution_count": 10,
   "id": "d7ab0d90-30bd-4926-80ec-ea938395c824",
   "metadata": {},
   "outputs": [],
   "source": [
    "conn = sqlite3.connect(\"information.db\")\n",
    "crsr = conn.cursor()\n",
    "%sql sqlite:///information.db"
   ]
  },
  {
   "cell_type": "markdown",
   "id": "8e663605-feee-426a-b00f-1bdca3597285",
   "metadata": {},
   "source": [
    "## Drop\n",
    "+ Running statements can mess up the table so it can be helpful to have a drop statement before th create statement"
   ]
  },
  {
   "cell_type": "code",
   "execution_count": 12,
   "id": "d494ad73-0a8a-4508-803c-6c42894f1ab3",
   "metadata": {},
   "outputs": [
    {
     "name": "stdout",
     "output_type": "stream",
     "text": [
      " * sqlite:///information.db\n",
      "Done.\n",
      " * sqlite:///information.db\n",
      "Done.\n"
     ]
    },
    {
     "data": {
      "text/plain": [
       "[]"
      ]
     },
     "execution_count": 12,
     "metadata": {},
     "output_type": "execute_result"
    }
   ],
   "source": [
    "%sql drop table if exists Punjab_Roadways;\n",
    "%sql drop table Pun_Bus;"
   ]
  },
  {
   "cell_type": "code",
   "execution_count": 13,
   "id": "e3f1d06c-7bfc-4004-99c7-c4b10852db5d",
   "metadata": {},
   "outputs": [
    {
     "name": "stdout",
     "output_type": "stream",
     "text": [
      " * sqlite:///information.db\n",
      "Done.\n",
      "Done.\n"
     ]
    },
    {
     "data": {
      "text/plain": [
       "[]"
      ]
     },
     "execution_count": 13,
     "metadata": {},
     "output_type": "execute_result"
    }
   ],
   "source": [
    "%%sql\n",
    "create table Punjab_Roadways(Sr_No_PR int primary key not null, Name_of_Depot_PR varchar(99), Punjab_Roadways _Ordinary_Buses_Leyland int, Punjab_Roadways_Ordinary_Buses_TATA int, HVAC_Buses int, Volvo int, Total_Punjab_Roadways_Buses int);\n",
    "create table Pun_Bus(Sr_No int primary key not null, Name_of_Depot varchar(99), PUNBUS_Ordinary_GPS_enabled_buses_leyland int, PUNBUS_Ordinary_GPS_enabled_buses_TATA int, Village_Buses int, PUNBUS_HVAC int, Volvo_Super_Integral_Coach_Buses int, Total_PUNBUS int, Total_PUNBUS_and_Punjab_Roadways int);"
   ]
  },
  {
   "cell_type": "markdown",
   "id": "f34c0fa5-ed28-4ccb-99e9-255192fdd3cd",
   "metadata": {},
   "source": [
    "## Check\n",
    "+ Test if we got the columns right or not"
   ]
  },
  {
   "cell_type": "code",
   "execution_count": 15,
   "id": "67b1980e-a14a-4b86-88f7-dfce67370d23",
   "metadata": {},
   "outputs": [
    {
     "name": "stdout",
     "output_type": "stream",
     "text": [
      " * sqlite:///information.db\n",
      "Done.\n"
     ]
    },
    {
     "data": {
      "text/html": [
       "<table>\n",
       "    <thead>\n",
       "        <tr>\n",
       "            <th>Sr_No_PR</th>\n",
       "            <th>Name_of_Depot_PR</th>\n",
       "            <th>Punjab_Roadways</th>\n",
       "            <th>Punjab_Roadways_Ordinary_Buses_TATA</th>\n",
       "            <th>HVAC_Buses</th>\n",
       "            <th>Volvo</th>\n",
       "            <th>Total_Punjab_Roadways_Buses</th>\n",
       "            <th>Sr_No</th>\n",
       "            <th>Name_of_Depot</th>\n",
       "            <th>PUNBUS_Ordinary_GPS_enabled_buses_leyland</th>\n",
       "            <th>PUNBUS_Ordinary_GPS_enabled_buses_TATA</th>\n",
       "            <th>Village_Buses</th>\n",
       "            <th>PUNBUS_HVAC</th>\n",
       "            <th>Volvo_Super_Integral_Coach_Buses</th>\n",
       "            <th>Total_PUNBUS</th>\n",
       "            <th>Total_PUNBUS_and_Punjab_Roadways</th>\n",
       "        </tr>\n",
       "    </thead>\n",
       "    <tbody>\n",
       "    </tbody>\n",
       "</table>"
      ],
      "text/plain": [
       "[]"
      ]
     },
     "execution_count": 15,
     "metadata": {},
     "output_type": "execute_result"
    }
   ],
   "source": [
    "%%sql select * from  Punjab_Roadways, Pun_Bus;\n",
    "\n",
    "\n"
   ]
  },
  {
   "cell_type": "markdown",
   "id": "4be98bf6-b689-4cbe-9167-0a5984f560c3",
   "metadata": {},
   "source": [
    "## Insert\n",
    "+ Since we do not have a script or csv file for this we have to manually enter the data into our tables"
   ]
  },
  {
   "cell_type": "code",
   "execution_count": 17,
   "id": "2fa637e3-4f25-4db3-a96a-a545869e49eb",
   "metadata": {},
   "outputs": [
    {
     "name": "stdout",
     "output_type": "stream",
     "text": [
      " * sqlite:///information.db\n",
      "18 rows affected.\n"
     ]
    },
    {
     "data": {
      "text/plain": [
       "[]"
      ]
     },
     "execution_count": 17,
     "metadata": {},
     "output_type": "execute_result"
    }
   ],
   "source": [
    "%%sql insert into Punjab_Roadways(Sr_No_PR, Name_of_Depot_PR, Punjab_Roadways, Punjab_Roadways_Ordinary_Buses_TATA, HVAC_Buses, Volvo, Total_Punjab_Roadways_Buses)\n",
    "values(1, 'Chandigarh', 29, 0 ,0, 1, 30),\n",
    "(2, 'Ropar', 46, 0, 0, 0, 46),\n",
    "(3, 'Ludhiana', 50, 0, 0, 0, 50),\n",
    "(4, 'Moga', 15, 11, 0, 0, 26),\n",
    "(5, 'Jagraon', 15, 10, 0, 0, 25),\n",
    "(6, 'Nangal', 0, 14, 0, 0, 14),\n",
    "(7, 'Jalandhar-1', 14, 0, 0, 0, 14),\n",
    "(8, 'Jalandhar-2', 19, 0, 0, 0, 19),\n",
    "(9, 'S.B.S.N', 02, 17, 0, 0, 19),\n",
    "(10, 'Batala', 25, 0, 0, 0, 25),\n",
    "(11, 'Pathankot', 0, 15, 0, 0, 15),\n",
    "(12, 'Hoshiarpur', 06, 21, 0, 0, 27),\n",
    "(13, 'Amritsar-1', 07, 10, 0, 1, 18),\n",
    "(14, 'Amritsar-2', 07, 07, 0, 0, 14),\n",
    "(15, 'TarnTaran', 0, 14, 0, 0, 14),\n",
    "(16, 'Patti', 04, 14, 0, 0, 18),\n",
    "(17, 'Ferozepur', 45, 04, 0, 0, 49),\n",
    "(18, 'Mukatsar', 37, 0, 0, 0, 37)"
   ]
  },
  {
   "cell_type": "markdown",
   "id": "727946a7-9f7a-46db-af0e-f4b3296cac07",
   "metadata": {},
   "source": [
    "## View Table"
   ]
  },
  {
   "cell_type": "code",
   "execution_count": 19,
   "id": "0ce28c26-2b18-4787-92bb-0d59b552fdcf",
   "metadata": {},
   "outputs": [
    {
     "name": "stdout",
     "output_type": "stream",
     "text": [
      " * sqlite:///information.db\n",
      "Done.\n"
     ]
    },
    {
     "data": {
      "text/html": [
       "<table>\n",
       "    <thead>\n",
       "        <tr>\n",
       "            <th>Sr_No_PR</th>\n",
       "            <th>Name_of_Depot_PR</th>\n",
       "            <th>Punjab_Roadways</th>\n",
       "            <th>Punjab_Roadways_Ordinary_Buses_TATA</th>\n",
       "            <th>HVAC_Buses</th>\n",
       "            <th>Volvo</th>\n",
       "            <th>Total_Punjab_Roadways_Buses</th>\n",
       "        </tr>\n",
       "    </thead>\n",
       "    <tbody>\n",
       "        <tr>\n",
       "            <td>1</td>\n",
       "            <td>Chandigarh</td>\n",
       "            <td>29</td>\n",
       "            <td>0</td>\n",
       "            <td>0</td>\n",
       "            <td>1</td>\n",
       "            <td>30</td>\n",
       "        </tr>\n",
       "        <tr>\n",
       "            <td>2</td>\n",
       "            <td>Ropar</td>\n",
       "            <td>46</td>\n",
       "            <td>0</td>\n",
       "            <td>0</td>\n",
       "            <td>0</td>\n",
       "            <td>46</td>\n",
       "        </tr>\n",
       "        <tr>\n",
       "            <td>3</td>\n",
       "            <td>Ludhiana</td>\n",
       "            <td>50</td>\n",
       "            <td>0</td>\n",
       "            <td>0</td>\n",
       "            <td>0</td>\n",
       "            <td>50</td>\n",
       "        </tr>\n",
       "        <tr>\n",
       "            <td>4</td>\n",
       "            <td>Moga</td>\n",
       "            <td>15</td>\n",
       "            <td>11</td>\n",
       "            <td>0</td>\n",
       "            <td>0</td>\n",
       "            <td>26</td>\n",
       "        </tr>\n",
       "        <tr>\n",
       "            <td>5</td>\n",
       "            <td>Jagraon</td>\n",
       "            <td>15</td>\n",
       "            <td>10</td>\n",
       "            <td>0</td>\n",
       "            <td>0</td>\n",
       "            <td>25</td>\n",
       "        </tr>\n",
       "        <tr>\n",
       "            <td>6</td>\n",
       "            <td>Nangal</td>\n",
       "            <td>0</td>\n",
       "            <td>14</td>\n",
       "            <td>0</td>\n",
       "            <td>0</td>\n",
       "            <td>14</td>\n",
       "        </tr>\n",
       "        <tr>\n",
       "            <td>7</td>\n",
       "            <td>Jalandhar-1</td>\n",
       "            <td>14</td>\n",
       "            <td>0</td>\n",
       "            <td>0</td>\n",
       "            <td>0</td>\n",
       "            <td>14</td>\n",
       "        </tr>\n",
       "        <tr>\n",
       "            <td>8</td>\n",
       "            <td>Jalandhar-2</td>\n",
       "            <td>19</td>\n",
       "            <td>0</td>\n",
       "            <td>0</td>\n",
       "            <td>0</td>\n",
       "            <td>19</td>\n",
       "        </tr>\n",
       "        <tr>\n",
       "            <td>9</td>\n",
       "            <td>S.B.S.N</td>\n",
       "            <td>2</td>\n",
       "            <td>17</td>\n",
       "            <td>0</td>\n",
       "            <td>0</td>\n",
       "            <td>19</td>\n",
       "        </tr>\n",
       "        <tr>\n",
       "            <td>10</td>\n",
       "            <td>Batala</td>\n",
       "            <td>25</td>\n",
       "            <td>0</td>\n",
       "            <td>0</td>\n",
       "            <td>0</td>\n",
       "            <td>25</td>\n",
       "        </tr>\n",
       "        <tr>\n",
       "            <td>11</td>\n",
       "            <td>Pathankot</td>\n",
       "            <td>0</td>\n",
       "            <td>15</td>\n",
       "            <td>0</td>\n",
       "            <td>0</td>\n",
       "            <td>15</td>\n",
       "        </tr>\n",
       "        <tr>\n",
       "            <td>12</td>\n",
       "            <td>Hoshiarpur</td>\n",
       "            <td>6</td>\n",
       "            <td>21</td>\n",
       "            <td>0</td>\n",
       "            <td>0</td>\n",
       "            <td>27</td>\n",
       "        </tr>\n",
       "        <tr>\n",
       "            <td>13</td>\n",
       "            <td>Amritsar-1</td>\n",
       "            <td>7</td>\n",
       "            <td>10</td>\n",
       "            <td>0</td>\n",
       "            <td>1</td>\n",
       "            <td>18</td>\n",
       "        </tr>\n",
       "        <tr>\n",
       "            <td>14</td>\n",
       "            <td>Amritsar-2</td>\n",
       "            <td>7</td>\n",
       "            <td>7</td>\n",
       "            <td>0</td>\n",
       "            <td>0</td>\n",
       "            <td>14</td>\n",
       "        </tr>\n",
       "        <tr>\n",
       "            <td>15</td>\n",
       "            <td>TarnTaran</td>\n",
       "            <td>0</td>\n",
       "            <td>14</td>\n",
       "            <td>0</td>\n",
       "            <td>0</td>\n",
       "            <td>14</td>\n",
       "        </tr>\n",
       "        <tr>\n",
       "            <td>16</td>\n",
       "            <td>Patti</td>\n",
       "            <td>4</td>\n",
       "            <td>14</td>\n",
       "            <td>0</td>\n",
       "            <td>0</td>\n",
       "            <td>18</td>\n",
       "        </tr>\n",
       "        <tr>\n",
       "            <td>17</td>\n",
       "            <td>Ferozepur</td>\n",
       "            <td>45</td>\n",
       "            <td>4</td>\n",
       "            <td>0</td>\n",
       "            <td>0</td>\n",
       "            <td>49</td>\n",
       "        </tr>\n",
       "        <tr>\n",
       "            <td>18</td>\n",
       "            <td>Mukatsar</td>\n",
       "            <td>37</td>\n",
       "            <td>0</td>\n",
       "            <td>0</td>\n",
       "            <td>0</td>\n",
       "            <td>37</td>\n",
       "        </tr>\n",
       "    </tbody>\n",
       "</table>"
      ],
      "text/plain": [
       "[(1, 'Chandigarh', 29, 0, 0, 1, 30),\n",
       " (2, 'Ropar', 46, 0, 0, 0, 46),\n",
       " (3, 'Ludhiana', 50, 0, 0, 0, 50),\n",
       " (4, 'Moga', 15, 11, 0, 0, 26),\n",
       " (5, 'Jagraon', 15, 10, 0, 0, 25),\n",
       " (6, 'Nangal', 0, 14, 0, 0, 14),\n",
       " (7, 'Jalandhar-1', 14, 0, 0, 0, 14),\n",
       " (8, 'Jalandhar-2', 19, 0, 0, 0, 19),\n",
       " (9, 'S.B.S.N', 2, 17, 0, 0, 19),\n",
       " (10, 'Batala', 25, 0, 0, 0, 25),\n",
       " (11, 'Pathankot', 0, 15, 0, 0, 15),\n",
       " (12, 'Hoshiarpur', 6, 21, 0, 0, 27),\n",
       " (13, 'Amritsar-1', 7, 10, 0, 1, 18),\n",
       " (14, 'Amritsar-2', 7, 7, 0, 0, 14),\n",
       " (15, 'TarnTaran', 0, 14, 0, 0, 14),\n",
       " (16, 'Patti', 4, 14, 0, 0, 18),\n",
       " (17, 'Ferozepur', 45, 4, 0, 0, 49),\n",
       " (18, 'Mukatsar', 37, 0, 0, 0, 37)]"
      ]
     },
     "execution_count": 19,
     "metadata": {},
     "output_type": "execute_result"
    }
   ],
   "source": [
    "%sql select * from Punjab_Roadways"
   ]
  },
  {
   "cell_type": "markdown",
   "id": "1841041e-3cb3-4260-952b-3ece112aded7",
   "metadata": {},
   "source": [
    "## Inserting into Pun_Bus"
   ]
  },
  {
   "cell_type": "code",
   "execution_count": 21,
   "id": "ba7dabda-cce4-4418-bf9d-0ce5b4209eed",
   "metadata": {},
   "outputs": [
    {
     "name": "stdout",
     "output_type": "stream",
     "text": [
      " * sqlite:///information.db\n",
      "18 rows affected.\n"
     ]
    },
    {
     "data": {
      "text/plain": [
       "[]"
      ]
     },
     "execution_count": 21,
     "metadata": {},
     "output_type": "execute_result"
    }
   ],
   "source": [
    "%%sql insert into Pun_bus(Sr_No, Name_of_Depot, PUNBUS_Ordinary_GPS_enabled_buses_leyland, PUNBUS_Ordinary_GPS_enabled_buses_TATA, Village_Buses, PUNBUS_HVAC, Volvo_Super_Integral_Coach_Buses, Total_PUNBUS, Total_PUNBUS_and_Punjab_Roadways)\n",
    "values(1, 'Chandigarh', 20, 45, 4, 0, 16, 85, 128),\n",
    "(2, 'Ropar', 18, 24, 4, 0, 5, 51, 97),\n",
    "(3, 'Ludhiana', 20, 35, 6, 0, 3, 64, 114),\n",
    "(4, 'Moga', 11, 38, 5, 0, 1, 55, 81),\n",
    "(5, 'Jagraon', 09, 29, 4, 0, 0, 42, 67),\n",
    "(6, 'Nangal', 27, 28, 0, 0, 0, 55, 69),\n",
    "(7, 'Jalandhar-1', 48, 25, 3, 0, 9, 85, 99),\n",
    "(8, 'Jalandhar-2', 44, 20, 6, 0, 0, 70, 89),\n",
    "(9, 'S.B.S.N', 33, 30, 4, 0, 1, 68, 87),\n",
    "(10, 'Batala', 26, 41, 2, 0, 0, 69, 94),\n",
    "(11, 'Pathankot', 43, 45, 2, 0, 4, 94, 109),\n",
    "(12, 'Hoshiarpur', 28, 40, 7, 0, 5, 80, 107),\n",
    "(13, 'Amritsar-1', 22, 51, 3, 0, 4, 80, 98),\n",
    "(14, 'Amritsar-2', 22, 47, 8, 1, 4, 82, 96),\n",
    "(15, 'TarnTaran', 24, 25, 4, 0, 0, 53, 71),\n",
    "(16, 'Patti', 23, 30, 4, 0, 1, 58, 76),\n",
    "(17, 'Ferozepur', 24, 42, 9, 0, 0, 75, 124),\n",
    "(18, 'Mukatsar', 29, 32, 5, 0, 2, 68, 105)"
   ]
  },
  {
   "cell_type": "markdown",
   "id": "b7b91225-1e71-4dec-a39f-6841bf422d2d",
   "metadata": {},
   "source": [
    "## View Table Pun_Bus"
   ]
  },
  {
   "cell_type": "code",
   "execution_count": 23,
   "id": "9322f24c-e449-434d-98d0-5b01e45feea7",
   "metadata": {},
   "outputs": [
    {
     "name": "stdout",
     "output_type": "stream",
     "text": [
      " * sqlite:///information.db\n",
      "Done.\n"
     ]
    },
    {
     "data": {
      "text/html": [
       "<table>\n",
       "    <thead>\n",
       "        <tr>\n",
       "            <th>Sr_No</th>\n",
       "            <th>Name_of_Depot</th>\n",
       "            <th>PUNBUS_Ordinary_GPS_enabled_buses_leyland</th>\n",
       "            <th>PUNBUS_Ordinary_GPS_enabled_buses_TATA</th>\n",
       "            <th>Village_Buses</th>\n",
       "            <th>PUNBUS_HVAC</th>\n",
       "            <th>Volvo_Super_Integral_Coach_Buses</th>\n",
       "            <th>Total_PUNBUS</th>\n",
       "            <th>Total_PUNBUS_and_Punjab_Roadways</th>\n",
       "        </tr>\n",
       "    </thead>\n",
       "    <tbody>\n",
       "        <tr>\n",
       "            <td>1</td>\n",
       "            <td>Chandigarh</td>\n",
       "            <td>20</td>\n",
       "            <td>45</td>\n",
       "            <td>4</td>\n",
       "            <td>0</td>\n",
       "            <td>16</td>\n",
       "            <td>85</td>\n",
       "            <td>128</td>\n",
       "        </tr>\n",
       "        <tr>\n",
       "            <td>2</td>\n",
       "            <td>Ropar</td>\n",
       "            <td>18</td>\n",
       "            <td>24</td>\n",
       "            <td>4</td>\n",
       "            <td>0</td>\n",
       "            <td>5</td>\n",
       "            <td>51</td>\n",
       "            <td>97</td>\n",
       "        </tr>\n",
       "        <tr>\n",
       "            <td>3</td>\n",
       "            <td>Ludhiana</td>\n",
       "            <td>20</td>\n",
       "            <td>35</td>\n",
       "            <td>6</td>\n",
       "            <td>0</td>\n",
       "            <td>3</td>\n",
       "            <td>64</td>\n",
       "            <td>114</td>\n",
       "        </tr>\n",
       "        <tr>\n",
       "            <td>4</td>\n",
       "            <td>Moga</td>\n",
       "            <td>11</td>\n",
       "            <td>38</td>\n",
       "            <td>5</td>\n",
       "            <td>0</td>\n",
       "            <td>1</td>\n",
       "            <td>55</td>\n",
       "            <td>81</td>\n",
       "        </tr>\n",
       "        <tr>\n",
       "            <td>5</td>\n",
       "            <td>Jagraon</td>\n",
       "            <td>9</td>\n",
       "            <td>29</td>\n",
       "            <td>4</td>\n",
       "            <td>0</td>\n",
       "            <td>0</td>\n",
       "            <td>42</td>\n",
       "            <td>67</td>\n",
       "        </tr>\n",
       "        <tr>\n",
       "            <td>6</td>\n",
       "            <td>Nangal</td>\n",
       "            <td>27</td>\n",
       "            <td>28</td>\n",
       "            <td>0</td>\n",
       "            <td>0</td>\n",
       "            <td>0</td>\n",
       "            <td>55</td>\n",
       "            <td>69</td>\n",
       "        </tr>\n",
       "        <tr>\n",
       "            <td>7</td>\n",
       "            <td>Jalandhar-1</td>\n",
       "            <td>48</td>\n",
       "            <td>25</td>\n",
       "            <td>3</td>\n",
       "            <td>0</td>\n",
       "            <td>9</td>\n",
       "            <td>85</td>\n",
       "            <td>99</td>\n",
       "        </tr>\n",
       "        <tr>\n",
       "            <td>8</td>\n",
       "            <td>Jalandhar-2</td>\n",
       "            <td>44</td>\n",
       "            <td>20</td>\n",
       "            <td>6</td>\n",
       "            <td>0</td>\n",
       "            <td>0</td>\n",
       "            <td>70</td>\n",
       "            <td>89</td>\n",
       "        </tr>\n",
       "        <tr>\n",
       "            <td>9</td>\n",
       "            <td>S.B.S.N</td>\n",
       "            <td>33</td>\n",
       "            <td>30</td>\n",
       "            <td>4</td>\n",
       "            <td>0</td>\n",
       "            <td>1</td>\n",
       "            <td>68</td>\n",
       "            <td>87</td>\n",
       "        </tr>\n",
       "        <tr>\n",
       "            <td>10</td>\n",
       "            <td>Batala</td>\n",
       "            <td>26</td>\n",
       "            <td>41</td>\n",
       "            <td>2</td>\n",
       "            <td>0</td>\n",
       "            <td>0</td>\n",
       "            <td>69</td>\n",
       "            <td>94</td>\n",
       "        </tr>\n",
       "        <tr>\n",
       "            <td>11</td>\n",
       "            <td>Pathankot</td>\n",
       "            <td>43</td>\n",
       "            <td>45</td>\n",
       "            <td>2</td>\n",
       "            <td>0</td>\n",
       "            <td>4</td>\n",
       "            <td>94</td>\n",
       "            <td>109</td>\n",
       "        </tr>\n",
       "        <tr>\n",
       "            <td>12</td>\n",
       "            <td>Hoshiarpur</td>\n",
       "            <td>28</td>\n",
       "            <td>40</td>\n",
       "            <td>7</td>\n",
       "            <td>0</td>\n",
       "            <td>5</td>\n",
       "            <td>80</td>\n",
       "            <td>107</td>\n",
       "        </tr>\n",
       "        <tr>\n",
       "            <td>13</td>\n",
       "            <td>Amritsar-1</td>\n",
       "            <td>22</td>\n",
       "            <td>51</td>\n",
       "            <td>3</td>\n",
       "            <td>0</td>\n",
       "            <td>4</td>\n",
       "            <td>80</td>\n",
       "            <td>98</td>\n",
       "        </tr>\n",
       "        <tr>\n",
       "            <td>14</td>\n",
       "            <td>Amritsar-2</td>\n",
       "            <td>22</td>\n",
       "            <td>47</td>\n",
       "            <td>8</td>\n",
       "            <td>1</td>\n",
       "            <td>4</td>\n",
       "            <td>82</td>\n",
       "            <td>96</td>\n",
       "        </tr>\n",
       "        <tr>\n",
       "            <td>15</td>\n",
       "            <td>TarnTaran</td>\n",
       "            <td>24</td>\n",
       "            <td>25</td>\n",
       "            <td>4</td>\n",
       "            <td>0</td>\n",
       "            <td>0</td>\n",
       "            <td>53</td>\n",
       "            <td>71</td>\n",
       "        </tr>\n",
       "        <tr>\n",
       "            <td>16</td>\n",
       "            <td>Patti</td>\n",
       "            <td>23</td>\n",
       "            <td>30</td>\n",
       "            <td>4</td>\n",
       "            <td>0</td>\n",
       "            <td>1</td>\n",
       "            <td>58</td>\n",
       "            <td>76</td>\n",
       "        </tr>\n",
       "        <tr>\n",
       "            <td>17</td>\n",
       "            <td>Ferozepur</td>\n",
       "            <td>24</td>\n",
       "            <td>42</td>\n",
       "            <td>9</td>\n",
       "            <td>0</td>\n",
       "            <td>0</td>\n",
       "            <td>75</td>\n",
       "            <td>124</td>\n",
       "        </tr>\n",
       "        <tr>\n",
       "            <td>18</td>\n",
       "            <td>Mukatsar</td>\n",
       "            <td>29</td>\n",
       "            <td>32</td>\n",
       "            <td>5</td>\n",
       "            <td>0</td>\n",
       "            <td>2</td>\n",
       "            <td>68</td>\n",
       "            <td>105</td>\n",
       "        </tr>\n",
       "    </tbody>\n",
       "</table>"
      ],
      "text/plain": [
       "[(1, 'Chandigarh', 20, 45, 4, 0, 16, 85, 128),\n",
       " (2, 'Ropar', 18, 24, 4, 0, 5, 51, 97),\n",
       " (3, 'Ludhiana', 20, 35, 6, 0, 3, 64, 114),\n",
       " (4, 'Moga', 11, 38, 5, 0, 1, 55, 81),\n",
       " (5, 'Jagraon', 9, 29, 4, 0, 0, 42, 67),\n",
       " (6, 'Nangal', 27, 28, 0, 0, 0, 55, 69),\n",
       " (7, 'Jalandhar-1', 48, 25, 3, 0, 9, 85, 99),\n",
       " (8, 'Jalandhar-2', 44, 20, 6, 0, 0, 70, 89),\n",
       " (9, 'S.B.S.N', 33, 30, 4, 0, 1, 68, 87),\n",
       " (10, 'Batala', 26, 41, 2, 0, 0, 69, 94),\n",
       " (11, 'Pathankot', 43, 45, 2, 0, 4, 94, 109),\n",
       " (12, 'Hoshiarpur', 28, 40, 7, 0, 5, 80, 107),\n",
       " (13, 'Amritsar-1', 22, 51, 3, 0, 4, 80, 98),\n",
       " (14, 'Amritsar-2', 22, 47, 8, 1, 4, 82, 96),\n",
       " (15, 'TarnTaran', 24, 25, 4, 0, 0, 53, 71),\n",
       " (16, 'Patti', 23, 30, 4, 0, 1, 58, 76),\n",
       " (17, 'Ferozepur', 24, 42, 9, 0, 0, 75, 124),\n",
       " (18, 'Mukatsar', 29, 32, 5, 0, 2, 68, 105)]"
      ]
     },
     "execution_count": 23,
     "metadata": {},
     "output_type": "execute_result"
    }
   ],
   "source": [
    "%sql select * from Pun_Bus"
   ]
  },
  {
   "cell_type": "markdown",
   "id": "3633dbcc-abf7-4181-a92d-13d51dce4cfb",
   "metadata": {},
   "source": [
    "## Python variables with sql\n",
    "+ We can use python variables in your SQL statements by adding a \":\" prefix to your python variable names for example\n"
   ]
  },
  {
   "cell_type": "code",
   "execution_count": 25,
   "id": "40dab7ed-ccff-4808-a7a1-40eb6d86d459",
   "metadata": {},
   "outputs": [
    {
     "name": "stdout",
     "output_type": "stream",
     "text": [
      " * sqlite:///information.db\n",
      "Done.\n"
     ]
    },
    {
     "data": {
      "text/html": [
       "<table>\n",
       "    <thead>\n",
       "        <tr>\n",
       "            <th>Sr_No</th>\n",
       "            <th>Name_of_Depot</th>\n",
       "            <th>PUNBUS_Ordinary_GPS_enabled_buses_leyland</th>\n",
       "            <th>PUNBUS_Ordinary_GPS_enabled_buses_TATA</th>\n",
       "            <th>Village_Buses</th>\n",
       "            <th>PUNBUS_HVAC</th>\n",
       "            <th>Volvo_Super_Integral_Coach_Buses</th>\n",
       "            <th>Total_PUNBUS</th>\n",
       "            <th>Total_PUNBUS_and_Punjab_Roadways</th>\n",
       "        </tr>\n",
       "    </thead>\n",
       "    <tbody>\n",
       "        <tr>\n",
       "            <td>15</td>\n",
       "            <td>TarnTaran</td>\n",
       "            <td>24</td>\n",
       "            <td>25</td>\n",
       "            <td>4</td>\n",
       "            <td>0</td>\n",
       "            <td>0</td>\n",
       "            <td>53</td>\n",
       "            <td>71</td>\n",
       "        </tr>\n",
       "    </tbody>\n",
       "</table>"
      ],
      "text/plain": [
       "[(15, 'TarnTaran', 24, 25, 4, 0, 0, 53, 71)]"
      ]
     },
     "execution_count": 25,
     "metadata": {},
     "output_type": "execute_result"
    }
   ],
   "source": [
    "dep = \"TarnTaran\"\n",
    "%sql select * from Pun_Bus where Name_of_Depot = :dep;"
   ]
  },
  {
   "cell_type": "markdown",
   "id": "c359707d-cf02-4950-bd7c-796115b774fc",
   "metadata": {},
   "source": [
    "# Exploratory Data Analysis"
   ]
  },
  {
   "cell_type": "markdown",
   "id": "5370025a-249b-499d-8324-4278863fb605",
   "metadata": {},
   "source": [
    "1. Getting the number of rows"
   ]
  },
  {
   "cell_type": "code",
   "execution_count": 28,
   "id": "169fda79-b2bf-4ec4-986d-0839579d6c9d",
   "metadata": {},
   "outputs": [
    {
     "name": "stdout",
     "output_type": "stream",
     "text": [
      " * sqlite:///information.db\n",
      "Done.\n"
     ]
    },
    {
     "data": {
      "text/html": [
       "<table>\n",
       "    <thead>\n",
       "        <tr>\n",
       "            <th>Count(*)</th>\n",
       "        </tr>\n",
       "    </thead>\n",
       "    <tbody>\n",
       "        <tr>\n",
       "            <td>18</td>\n",
       "        </tr>\n",
       "    </tbody>\n",
       "</table>"
      ],
      "text/plain": [
       "[(18,)]"
      ]
     },
     "execution_count": 28,
     "metadata": {},
     "output_type": "execute_result"
    }
   ],
   "source": [
    " %sql SELECT Count(*) from Punjab_Roadways, Pun_Bus where Sr_No_PR = Sr_No;"
   ]
  },
  {
   "cell_type": "markdown",
   "id": "385cf081-f7a9-4c2e-b01d-793a59d0d50e",
   "metadata": {},
   "source": [
    "2. Checking the bus depots\n",
    "\n"
   ]
  },
  {
   "cell_type": "code",
   "execution_count": 30,
   "id": "d3377a89-872f-41ff-8744-79bea65167ab",
   "metadata": {},
   "outputs": [
    {
     "name": "stdout",
     "output_type": "stream",
     "text": [
      " * sqlite:///information.db\n",
      "Done.\n"
     ]
    },
    {
     "data": {
      "text/html": [
       "<table>\n",
       "    <thead>\n",
       "        <tr>\n",
       "            <th>Name_of_Depot_PR</th>\n",
       "            <th>Name_of_Depot</th>\n",
       "        </tr>\n",
       "    </thead>\n",
       "    <tbody>\n",
       "        <tr>\n",
       "            <td>Chandigarh</td>\n",
       "            <td>Chandigarh</td>\n",
       "        </tr>\n",
       "        <tr>\n",
       "            <td>Ropar</td>\n",
       "            <td>Ropar</td>\n",
       "        </tr>\n",
       "        <tr>\n",
       "            <td>Ludhiana</td>\n",
       "            <td>Ludhiana</td>\n",
       "        </tr>\n",
       "        <tr>\n",
       "            <td>Moga</td>\n",
       "            <td>Moga</td>\n",
       "        </tr>\n",
       "        <tr>\n",
       "            <td>Jagraon</td>\n",
       "            <td>Jagraon</td>\n",
       "        </tr>\n",
       "        <tr>\n",
       "            <td>Nangal</td>\n",
       "            <td>Nangal</td>\n",
       "        </tr>\n",
       "        <tr>\n",
       "            <td>Jalandhar-1</td>\n",
       "            <td>Jalandhar-1</td>\n",
       "        </tr>\n",
       "        <tr>\n",
       "            <td>Jalandhar-2</td>\n",
       "            <td>Jalandhar-2</td>\n",
       "        </tr>\n",
       "        <tr>\n",
       "            <td>S.B.S.N</td>\n",
       "            <td>S.B.S.N</td>\n",
       "        </tr>\n",
       "        <tr>\n",
       "            <td>Batala</td>\n",
       "            <td>Batala</td>\n",
       "        </tr>\n",
       "        <tr>\n",
       "            <td>Pathankot</td>\n",
       "            <td>Pathankot</td>\n",
       "        </tr>\n",
       "        <tr>\n",
       "            <td>Hoshiarpur</td>\n",
       "            <td>Hoshiarpur</td>\n",
       "        </tr>\n",
       "        <tr>\n",
       "            <td>Amritsar-1</td>\n",
       "            <td>Amritsar-1</td>\n",
       "        </tr>\n",
       "        <tr>\n",
       "            <td>Amritsar-2</td>\n",
       "            <td>Amritsar-2</td>\n",
       "        </tr>\n",
       "        <tr>\n",
       "            <td>TarnTaran</td>\n",
       "            <td>TarnTaran</td>\n",
       "        </tr>\n",
       "        <tr>\n",
       "            <td>Patti</td>\n",
       "            <td>Patti</td>\n",
       "        </tr>\n",
       "        <tr>\n",
       "            <td>Ferozepur</td>\n",
       "            <td>Ferozepur</td>\n",
       "        </tr>\n",
       "        <tr>\n",
       "            <td>Mukatsar</td>\n",
       "            <td>Mukatsar</td>\n",
       "        </tr>\n",
       "    </tbody>\n",
       "</table>"
      ],
      "text/plain": [
       "[('Chandigarh', 'Chandigarh'),\n",
       " ('Ropar', 'Ropar'),\n",
       " ('Ludhiana', 'Ludhiana'),\n",
       " ('Moga', 'Moga'),\n",
       " ('Jagraon', 'Jagraon'),\n",
       " ('Nangal', 'Nangal'),\n",
       " ('Jalandhar-1', 'Jalandhar-1'),\n",
       " ('Jalandhar-2', 'Jalandhar-2'),\n",
       " ('S.B.S.N', 'S.B.S.N'),\n",
       " ('Batala', 'Batala'),\n",
       " ('Pathankot', 'Pathankot'),\n",
       " ('Hoshiarpur', 'Hoshiarpur'),\n",
       " ('Amritsar-1', 'Amritsar-1'),\n",
       " ('Amritsar-2', 'Amritsar-2'),\n",
       " ('TarnTaran', 'TarnTaran'),\n",
       " ('Patti', 'Patti'),\n",
       " ('Ferozepur', 'Ferozepur'),\n",
       " ('Mukatsar', 'Mukatsar')]"
      ]
     },
     "execution_count": 30,
     "metadata": {},
     "output_type": "execute_result"
    }
   ],
   "source": [
    "%sql select pr.Name_of_Depot_PR, p.Name_of_Depot from Punjab_Roadways as pr, Pun_Bus as p  where pr.Sr_No_PR = p.Sr_No; "
   ]
  },
  {
   "cell_type": "markdown",
   "id": "01d75988-c2ae-4335-a28e-be6df2d91d27",
   "metadata": {},
   "source": [
    "3. No. of buses that cover village routes that are in tablePun_Bus"
   ]
  },
  {
   "cell_type": "code",
   "execution_count": 32,
   "id": "45842f95-ad99-4a1f-a5af-8f01bd05f10a",
   "metadata": {},
   "outputs": [
    {
     "name": "stdout",
     "output_type": "stream",
     "text": [
      " * sqlite:///information.db\n",
      "Done.\n"
     ]
    },
    {
     "data": {
      "text/html": [
       "<table>\n",
       "    <thead>\n",
       "        <tr>\n",
       "            <th>total</th>\n",
       "        </tr>\n",
       "    </thead>\n",
       "    <tbody>\n",
       "        <tr>\n",
       "            <td>80</td>\n",
       "        </tr>\n",
       "    </tbody>\n",
       "</table>"
      ],
      "text/plain": [
       "[(80,)]"
      ]
     },
     "execution_count": 32,
     "metadata": {},
     "output_type": "execute_result"
    }
   ],
   "source": [
    "%sql select sum(Village_Buses) as total from Pun_Bus"
   ]
  },
  {
   "cell_type": "markdown",
   "id": "e18abf39-376d-4310-9e73-c7bbc4c46a14",
   "metadata": {},
   "source": [
    "4. No. of min. and max. buses that cover vilage routes"
   ]
  },
  {
   "cell_type": "code",
   "execution_count": 34,
   "id": "f6bd301d-a6e9-458e-8266-4e902c410154",
   "metadata": {},
   "outputs": [
    {
     "name": "stdout",
     "output_type": "stream",
     "text": [
      " * sqlite:///information.db\n",
      "Done.\n"
     ]
    },
    {
     "data": {
      "text/html": [
       "<table>\n",
       "    <thead>\n",
       "        <tr>\n",
       "            <th>min</th>\n",
       "            <th>max</th>\n",
       "        </tr>\n",
       "    </thead>\n",
       "    <tbody>\n",
       "        <tr>\n",
       "            <td>0</td>\n",
       "            <td>9</td>\n",
       "        </tr>\n",
       "    </tbody>\n",
       "</table>"
      ],
      "text/plain": [
       "[(0, 9)]"
      ]
     },
     "execution_count": 34,
     "metadata": {},
     "output_type": "execute_result"
    }
   ],
   "source": [
    "%sql select min(Village_Buses) as min, max(VILlage_Buses) as max from Pun_Bus;"
   ]
  },
  {
   "cell_type": "markdown",
   "id": "b98bab6a-5c1c-4b18-a3f1-3bb0317c98bd",
   "metadata": {},
   "source": [
    "5. Name of the depot ehich have 0 buses for village routes"
   ]
  },
  {
   "cell_type": "code",
   "execution_count": 36,
   "id": "f310ed47-f8db-4211-917f-62d39da61ddf",
   "metadata": {},
   "outputs": [
    {
     "name": "stdout",
     "output_type": "stream",
     "text": [
      " * sqlite:///information.db\n",
      "Done.\n"
     ]
    },
    {
     "data": {
      "text/html": [
       "<table>\n",
       "    <thead>\n",
       "        <tr>\n",
       "            <th>Name_of_Depot</th>\n",
       "        </tr>\n",
       "    </thead>\n",
       "    <tbody>\n",
       "        <tr>\n",
       "            <td>Nangal</td>\n",
       "        </tr>\n",
       "    </tbody>\n",
       "</table>"
      ],
      "text/plain": [
       "[('Nangal',)]"
      ]
     },
     "execution_count": 36,
     "metadata": {},
     "output_type": "execute_result"
    }
   ],
   "source": [
    "%sql select Name_of_Depot from Pun_Bus where Village_Buses = 0;"
   ]
  },
  {
   "cell_type": "markdown",
   "id": "3b100732-4d29-48db-8b06-54230e6cc9ec",
   "metadata": {},
   "source": [
    "# Performing basic data visualization for exploratory data analysis"
   ]
  },
  {
   "cell_type": "markdown",
   "id": "f1958f1b-62b0-4719-8cce-789346d03eda",
   "metadata": {},
   "source": [
    "1. Converting table into dataframe object"
   ]
  },
  {
   "cell_type": "code",
   "execution_count": 39,
   "id": "0a830068-d5e9-46de-abd1-c0e025602ecd",
   "metadata": {},
   "outputs": [
    {
     "data": {
      "text/html": [
       "<div>\n",
       "<style scoped>\n",
       "    .dataframe tbody tr th:only-of-type {\n",
       "        vertical-align: middle;\n",
       "    }\n",
       "\n",
       "    .dataframe tbody tr th {\n",
       "        vertical-align: top;\n",
       "    }\n",
       "\n",
       "    .dataframe thead th {\n",
       "        text-align: right;\n",
       "    }\n",
       "</style>\n",
       "<table border=\"1\" class=\"dataframe\">\n",
       "  <thead>\n",
       "    <tr style=\"text-align: right;\">\n",
       "      <th></th>\n",
       "      <th>Sr_No_PR</th>\n",
       "      <th>Name_of_Depot_PR</th>\n",
       "      <th>Punjab_Roadways</th>\n",
       "      <th>Punjab_Roadways_Ordinary_Buses_TATA</th>\n",
       "      <th>HVAC_Buses</th>\n",
       "      <th>Volvo</th>\n",
       "      <th>Total_Punjab_Roadways_Buses</th>\n",
       "      <th>Sr_No</th>\n",
       "      <th>Name_of_Depot</th>\n",
       "      <th>PUNBUS_Ordinary_GPS_enabled_buses_leyland</th>\n",
       "      <th>PUNBUS_Ordinary_GPS_enabled_buses_TATA</th>\n",
       "      <th>Village_Buses</th>\n",
       "      <th>PUNBUS_HVAC</th>\n",
       "      <th>Volvo_Super_Integral_Coach_Buses</th>\n",
       "      <th>Total_PUNBUS</th>\n",
       "      <th>Total_PUNBUS_and_Punjab_Roadways</th>\n",
       "    </tr>\n",
       "  </thead>\n",
       "  <tbody>\n",
       "    <tr>\n",
       "      <th>0</th>\n",
       "      <td>1</td>\n",
       "      <td>Chandigarh</td>\n",
       "      <td>29</td>\n",
       "      <td>0</td>\n",
       "      <td>0</td>\n",
       "      <td>1</td>\n",
       "      <td>30</td>\n",
       "      <td>1</td>\n",
       "      <td>Chandigarh</td>\n",
       "      <td>20</td>\n",
       "      <td>45</td>\n",
       "      <td>4</td>\n",
       "      <td>0</td>\n",
       "      <td>16</td>\n",
       "      <td>85</td>\n",
       "      <td>128</td>\n",
       "    </tr>\n",
       "    <tr>\n",
       "      <th>1</th>\n",
       "      <td>2</td>\n",
       "      <td>Ropar</td>\n",
       "      <td>46</td>\n",
       "      <td>0</td>\n",
       "      <td>0</td>\n",
       "      <td>0</td>\n",
       "      <td>46</td>\n",
       "      <td>2</td>\n",
       "      <td>Ropar</td>\n",
       "      <td>18</td>\n",
       "      <td>24</td>\n",
       "      <td>4</td>\n",
       "      <td>0</td>\n",
       "      <td>5</td>\n",
       "      <td>51</td>\n",
       "      <td>97</td>\n",
       "    </tr>\n",
       "    <tr>\n",
       "      <th>2</th>\n",
       "      <td>3</td>\n",
       "      <td>Ludhiana</td>\n",
       "      <td>50</td>\n",
       "      <td>0</td>\n",
       "      <td>0</td>\n",
       "      <td>0</td>\n",
       "      <td>50</td>\n",
       "      <td>3</td>\n",
       "      <td>Ludhiana</td>\n",
       "      <td>20</td>\n",
       "      <td>35</td>\n",
       "      <td>6</td>\n",
       "      <td>0</td>\n",
       "      <td>3</td>\n",
       "      <td>64</td>\n",
       "      <td>114</td>\n",
       "    </tr>\n",
       "    <tr>\n",
       "      <th>3</th>\n",
       "      <td>4</td>\n",
       "      <td>Moga</td>\n",
       "      <td>15</td>\n",
       "      <td>11</td>\n",
       "      <td>0</td>\n",
       "      <td>0</td>\n",
       "      <td>26</td>\n",
       "      <td>4</td>\n",
       "      <td>Moga</td>\n",
       "      <td>11</td>\n",
       "      <td>38</td>\n",
       "      <td>5</td>\n",
       "      <td>0</td>\n",
       "      <td>1</td>\n",
       "      <td>55</td>\n",
       "      <td>81</td>\n",
       "    </tr>\n",
       "    <tr>\n",
       "      <th>4</th>\n",
       "      <td>5</td>\n",
       "      <td>Jagraon</td>\n",
       "      <td>15</td>\n",
       "      <td>10</td>\n",
       "      <td>0</td>\n",
       "      <td>0</td>\n",
       "      <td>25</td>\n",
       "      <td>5</td>\n",
       "      <td>Jagraon</td>\n",
       "      <td>9</td>\n",
       "      <td>29</td>\n",
       "      <td>4</td>\n",
       "      <td>0</td>\n",
       "      <td>0</td>\n",
       "      <td>42</td>\n",
       "      <td>67</td>\n",
       "    </tr>\n",
       "    <tr>\n",
       "      <th>5</th>\n",
       "      <td>6</td>\n",
       "      <td>Nangal</td>\n",
       "      <td>0</td>\n",
       "      <td>14</td>\n",
       "      <td>0</td>\n",
       "      <td>0</td>\n",
       "      <td>14</td>\n",
       "      <td>6</td>\n",
       "      <td>Nangal</td>\n",
       "      <td>27</td>\n",
       "      <td>28</td>\n",
       "      <td>0</td>\n",
       "      <td>0</td>\n",
       "      <td>0</td>\n",
       "      <td>55</td>\n",
       "      <td>69</td>\n",
       "    </tr>\n",
       "    <tr>\n",
       "      <th>6</th>\n",
       "      <td>7</td>\n",
       "      <td>Jalandhar-1</td>\n",
       "      <td>14</td>\n",
       "      <td>0</td>\n",
       "      <td>0</td>\n",
       "      <td>0</td>\n",
       "      <td>14</td>\n",
       "      <td>7</td>\n",
       "      <td>Jalandhar-1</td>\n",
       "      <td>48</td>\n",
       "      <td>25</td>\n",
       "      <td>3</td>\n",
       "      <td>0</td>\n",
       "      <td>9</td>\n",
       "      <td>85</td>\n",
       "      <td>99</td>\n",
       "    </tr>\n",
       "    <tr>\n",
       "      <th>7</th>\n",
       "      <td>8</td>\n",
       "      <td>Jalandhar-2</td>\n",
       "      <td>19</td>\n",
       "      <td>0</td>\n",
       "      <td>0</td>\n",
       "      <td>0</td>\n",
       "      <td>19</td>\n",
       "      <td>8</td>\n",
       "      <td>Jalandhar-2</td>\n",
       "      <td>44</td>\n",
       "      <td>20</td>\n",
       "      <td>6</td>\n",
       "      <td>0</td>\n",
       "      <td>0</td>\n",
       "      <td>70</td>\n",
       "      <td>89</td>\n",
       "    </tr>\n",
       "    <tr>\n",
       "      <th>8</th>\n",
       "      <td>9</td>\n",
       "      <td>S.B.S.N</td>\n",
       "      <td>2</td>\n",
       "      <td>17</td>\n",
       "      <td>0</td>\n",
       "      <td>0</td>\n",
       "      <td>19</td>\n",
       "      <td>9</td>\n",
       "      <td>S.B.S.N</td>\n",
       "      <td>33</td>\n",
       "      <td>30</td>\n",
       "      <td>4</td>\n",
       "      <td>0</td>\n",
       "      <td>1</td>\n",
       "      <td>68</td>\n",
       "      <td>87</td>\n",
       "    </tr>\n",
       "    <tr>\n",
       "      <th>9</th>\n",
       "      <td>10</td>\n",
       "      <td>Batala</td>\n",
       "      <td>25</td>\n",
       "      <td>0</td>\n",
       "      <td>0</td>\n",
       "      <td>0</td>\n",
       "      <td>25</td>\n",
       "      <td>10</td>\n",
       "      <td>Batala</td>\n",
       "      <td>26</td>\n",
       "      <td>41</td>\n",
       "      <td>2</td>\n",
       "      <td>0</td>\n",
       "      <td>0</td>\n",
       "      <td>69</td>\n",
       "      <td>94</td>\n",
       "    </tr>\n",
       "    <tr>\n",
       "      <th>10</th>\n",
       "      <td>11</td>\n",
       "      <td>Pathankot</td>\n",
       "      <td>0</td>\n",
       "      <td>15</td>\n",
       "      <td>0</td>\n",
       "      <td>0</td>\n",
       "      <td>15</td>\n",
       "      <td>11</td>\n",
       "      <td>Pathankot</td>\n",
       "      <td>43</td>\n",
       "      <td>45</td>\n",
       "      <td>2</td>\n",
       "      <td>0</td>\n",
       "      <td>4</td>\n",
       "      <td>94</td>\n",
       "      <td>109</td>\n",
       "    </tr>\n",
       "    <tr>\n",
       "      <th>11</th>\n",
       "      <td>12</td>\n",
       "      <td>Hoshiarpur</td>\n",
       "      <td>6</td>\n",
       "      <td>21</td>\n",
       "      <td>0</td>\n",
       "      <td>0</td>\n",
       "      <td>27</td>\n",
       "      <td>12</td>\n",
       "      <td>Hoshiarpur</td>\n",
       "      <td>28</td>\n",
       "      <td>40</td>\n",
       "      <td>7</td>\n",
       "      <td>0</td>\n",
       "      <td>5</td>\n",
       "      <td>80</td>\n",
       "      <td>107</td>\n",
       "    </tr>\n",
       "    <tr>\n",
       "      <th>12</th>\n",
       "      <td>13</td>\n",
       "      <td>Amritsar-1</td>\n",
       "      <td>7</td>\n",
       "      <td>10</td>\n",
       "      <td>0</td>\n",
       "      <td>1</td>\n",
       "      <td>18</td>\n",
       "      <td>13</td>\n",
       "      <td>Amritsar-1</td>\n",
       "      <td>22</td>\n",
       "      <td>51</td>\n",
       "      <td>3</td>\n",
       "      <td>0</td>\n",
       "      <td>4</td>\n",
       "      <td>80</td>\n",
       "      <td>98</td>\n",
       "    </tr>\n",
       "    <tr>\n",
       "      <th>13</th>\n",
       "      <td>14</td>\n",
       "      <td>Amritsar-2</td>\n",
       "      <td>7</td>\n",
       "      <td>7</td>\n",
       "      <td>0</td>\n",
       "      <td>0</td>\n",
       "      <td>14</td>\n",
       "      <td>14</td>\n",
       "      <td>Amritsar-2</td>\n",
       "      <td>22</td>\n",
       "      <td>47</td>\n",
       "      <td>8</td>\n",
       "      <td>1</td>\n",
       "      <td>4</td>\n",
       "      <td>82</td>\n",
       "      <td>96</td>\n",
       "    </tr>\n",
       "    <tr>\n",
       "      <th>14</th>\n",
       "      <td>15</td>\n",
       "      <td>TarnTaran</td>\n",
       "      <td>0</td>\n",
       "      <td>14</td>\n",
       "      <td>0</td>\n",
       "      <td>0</td>\n",
       "      <td>14</td>\n",
       "      <td>15</td>\n",
       "      <td>TarnTaran</td>\n",
       "      <td>24</td>\n",
       "      <td>25</td>\n",
       "      <td>4</td>\n",
       "      <td>0</td>\n",
       "      <td>0</td>\n",
       "      <td>53</td>\n",
       "      <td>71</td>\n",
       "    </tr>\n",
       "    <tr>\n",
       "      <th>15</th>\n",
       "      <td>16</td>\n",
       "      <td>Patti</td>\n",
       "      <td>4</td>\n",
       "      <td>14</td>\n",
       "      <td>0</td>\n",
       "      <td>0</td>\n",
       "      <td>18</td>\n",
       "      <td>16</td>\n",
       "      <td>Patti</td>\n",
       "      <td>23</td>\n",
       "      <td>30</td>\n",
       "      <td>4</td>\n",
       "      <td>0</td>\n",
       "      <td>1</td>\n",
       "      <td>58</td>\n",
       "      <td>76</td>\n",
       "    </tr>\n",
       "    <tr>\n",
       "      <th>16</th>\n",
       "      <td>17</td>\n",
       "      <td>Ferozepur</td>\n",
       "      <td>45</td>\n",
       "      <td>4</td>\n",
       "      <td>0</td>\n",
       "      <td>0</td>\n",
       "      <td>49</td>\n",
       "      <td>17</td>\n",
       "      <td>Ferozepur</td>\n",
       "      <td>24</td>\n",
       "      <td>42</td>\n",
       "      <td>9</td>\n",
       "      <td>0</td>\n",
       "      <td>0</td>\n",
       "      <td>75</td>\n",
       "      <td>124</td>\n",
       "    </tr>\n",
       "    <tr>\n",
       "      <th>17</th>\n",
       "      <td>18</td>\n",
       "      <td>Mukatsar</td>\n",
       "      <td>37</td>\n",
       "      <td>0</td>\n",
       "      <td>0</td>\n",
       "      <td>0</td>\n",
       "      <td>37</td>\n",
       "      <td>18</td>\n",
       "      <td>Mukatsar</td>\n",
       "      <td>29</td>\n",
       "      <td>32</td>\n",
       "      <td>5</td>\n",
       "      <td>0</td>\n",
       "      <td>2</td>\n",
       "      <td>68</td>\n",
       "      <td>105</td>\n",
       "    </tr>\n",
       "  </tbody>\n",
       "</table>\n",
       "</div>"
      ],
      "text/plain": [
       "    Sr_No_PR Name_of_Depot_PR  Punjab_Roadways  \\\n",
       "0          1       Chandigarh               29   \n",
       "1          2            Ropar               46   \n",
       "2          3         Ludhiana               50   \n",
       "3          4             Moga               15   \n",
       "4          5          Jagraon               15   \n",
       "5          6           Nangal                0   \n",
       "6          7      Jalandhar-1               14   \n",
       "7          8      Jalandhar-2               19   \n",
       "8          9          S.B.S.N                2   \n",
       "9         10           Batala               25   \n",
       "10        11        Pathankot                0   \n",
       "11        12       Hoshiarpur                6   \n",
       "12        13       Amritsar-1                7   \n",
       "13        14       Amritsar-2                7   \n",
       "14        15        TarnTaran                0   \n",
       "15        16            Patti                4   \n",
       "16        17        Ferozepur               45   \n",
       "17        18         Mukatsar               37   \n",
       "\n",
       "    Punjab_Roadways_Ordinary_Buses_TATA  HVAC_Buses  Volvo  \\\n",
       "0                                     0           0      1   \n",
       "1                                     0           0      0   \n",
       "2                                     0           0      0   \n",
       "3                                    11           0      0   \n",
       "4                                    10           0      0   \n",
       "5                                    14           0      0   \n",
       "6                                     0           0      0   \n",
       "7                                     0           0      0   \n",
       "8                                    17           0      0   \n",
       "9                                     0           0      0   \n",
       "10                                   15           0      0   \n",
       "11                                   21           0      0   \n",
       "12                                   10           0      1   \n",
       "13                                    7           0      0   \n",
       "14                                   14           0      0   \n",
       "15                                   14           0      0   \n",
       "16                                    4           0      0   \n",
       "17                                    0           0      0   \n",
       "\n",
       "    Total_Punjab_Roadways_Buses  Sr_No Name_of_Depot  \\\n",
       "0                            30      1    Chandigarh   \n",
       "1                            46      2         Ropar   \n",
       "2                            50      3      Ludhiana   \n",
       "3                            26      4          Moga   \n",
       "4                            25      5       Jagraon   \n",
       "5                            14      6        Nangal   \n",
       "6                            14      7   Jalandhar-1   \n",
       "7                            19      8   Jalandhar-2   \n",
       "8                            19      9       S.B.S.N   \n",
       "9                            25     10        Batala   \n",
       "10                           15     11     Pathankot   \n",
       "11                           27     12    Hoshiarpur   \n",
       "12                           18     13    Amritsar-1   \n",
       "13                           14     14    Amritsar-2   \n",
       "14                           14     15     TarnTaran   \n",
       "15                           18     16         Patti   \n",
       "16                           49     17     Ferozepur   \n",
       "17                           37     18      Mukatsar   \n",
       "\n",
       "    PUNBUS_Ordinary_GPS_enabled_buses_leyland  \\\n",
       "0                                          20   \n",
       "1                                          18   \n",
       "2                                          20   \n",
       "3                                          11   \n",
       "4                                           9   \n",
       "5                                          27   \n",
       "6                                          48   \n",
       "7                                          44   \n",
       "8                                          33   \n",
       "9                                          26   \n",
       "10                                         43   \n",
       "11                                         28   \n",
       "12                                         22   \n",
       "13                                         22   \n",
       "14                                         24   \n",
       "15                                         23   \n",
       "16                                         24   \n",
       "17                                         29   \n",
       "\n",
       "    PUNBUS_Ordinary_GPS_enabled_buses_TATA  Village_Buses  PUNBUS_HVAC  \\\n",
       "0                                       45              4            0   \n",
       "1                                       24              4            0   \n",
       "2                                       35              6            0   \n",
       "3                                       38              5            0   \n",
       "4                                       29              4            0   \n",
       "5                                       28              0            0   \n",
       "6                                       25              3            0   \n",
       "7                                       20              6            0   \n",
       "8                                       30              4            0   \n",
       "9                                       41              2            0   \n",
       "10                                      45              2            0   \n",
       "11                                      40              7            0   \n",
       "12                                      51              3            0   \n",
       "13                                      47              8            1   \n",
       "14                                      25              4            0   \n",
       "15                                      30              4            0   \n",
       "16                                      42              9            0   \n",
       "17                                      32              5            0   \n",
       "\n",
       "    Volvo_Super_Integral_Coach_Buses  Total_PUNBUS  \\\n",
       "0                                 16            85   \n",
       "1                                  5            51   \n",
       "2                                  3            64   \n",
       "3                                  1            55   \n",
       "4                                  0            42   \n",
       "5                                  0            55   \n",
       "6                                  9            85   \n",
       "7                                  0            70   \n",
       "8                                  1            68   \n",
       "9                                  0            69   \n",
       "10                                 4            94   \n",
       "11                                 5            80   \n",
       "12                                 4            80   \n",
       "13                                 4            82   \n",
       "14                                 0            53   \n",
       "15                                 1            58   \n",
       "16                                 0            75   \n",
       "17                                 2            68   \n",
       "\n",
       "    Total_PUNBUS_and_Punjab_Roadways  \n",
       "0                                128  \n",
       "1                                 97  \n",
       "2                                114  \n",
       "3                                 81  \n",
       "4                                 67  \n",
       "5                                 69  \n",
       "6                                 99  \n",
       "7                                 89  \n",
       "8                                 87  \n",
       "9                                 94  \n",
       "10                               109  \n",
       "11                               107  \n",
       "12                                98  \n",
       "13                                96  \n",
       "14                                71  \n",
       "15                                76  \n",
       "16                               124  \n",
       "17                               105  "
      ]
     },
     "execution_count": 39,
     "metadata": {},
     "output_type": "execute_result"
    }
   ],
   "source": [
    "import pandas as pd\n",
    "Bus_Fleet = pd.read_sql_query('select * from Punjab_Roadways as pr, Pun_Bus as p where pr.Sr_No_PR = p.Sr_No;', conn)\n",
    "Bus_Fleet"
   ]
  },
  {
   "cell_type": "markdown",
   "id": "c81fbbbb-aced-488a-9939-7a3c4091c289",
   "metadata": {},
   "source": [
    "2. Getting seaborn and matplotlib ready to plot in the notebook"
   ]
  },
  {
   "cell_type": "code",
   "execution_count": 41,
   "id": "b2046ccf-e620-419a-82e8-c3d3a5578277",
   "metadata": {},
   "outputs": [],
   "source": [
    "# uncomment the following line if you get an module error saying seaborn not found\n",
    "# !pip install seaborn==0.9.0\n",
    "import seaborn\n",
    "import matplotlib.pyplot as plt\n",
    "%matplotlib inline\n",
    "# %matplotlib inline only works in Jupyter Notebook and not in regular Python scripts or other environments. It helps in displaying the the plot with in the notebook below code line"
   ]
  },
  {
   "cell_type": "markdown",
   "id": "16fd0f61-f92b-4dcf-b3fc-592861563dc7",
   "metadata": {},
   "source": [
    "3. Plotting total buses in Punjab_roadways"
   ]
  },
  {
   "cell_type": "code",
   "execution_count": 43,
   "id": "bdebde2a-53b4-45c2-ae06-097f9cc7dd16",
   "metadata": {},
   "outputs": [
    {
     "data": {
      "text/plain": [
       "([0, 1, 2, 3, 4, 5, 6, 7, 8, 9, 10, 11, 12, 13, 14, 15, 16, 17],\n",
       " [Text(0, 0, 'Chandigarh'),\n",
       "  Text(1, 0, 'Ropar'),\n",
       "  Text(2, 0, 'Ludhiana'),\n",
       "  Text(3, 0, 'Moga'),\n",
       "  Text(4, 0, 'Jagraon'),\n",
       "  Text(5, 0, 'Nangal'),\n",
       "  Text(6, 0, 'Jalandhar-1'),\n",
       "  Text(7, 0, 'Jalandhar-2'),\n",
       "  Text(8, 0, 'S.B.S.N'),\n",
       "  Text(9, 0, 'Batala'),\n",
       "  Text(10, 0, 'Pathankot'),\n",
       "  Text(11, 0, 'Hoshiarpur'),\n",
       "  Text(12, 0, 'Amritsar-1'),\n",
       "  Text(13, 0, 'Amritsar-2'),\n",
       "  Text(14, 0, 'TarnTaran'),\n",
       "  Text(15, 0, 'Patti'),\n",
       "  Text(16, 0, 'Ferozepur'),\n",
       "  Text(17, 0, 'Mukatsar')])"
      ]
     },
     "execution_count": 43,
     "metadata": {},
     "output_type": "execute_result"
    },
    {
     "data": {
      "image/png": "[encoded data removed]",
      "text/plain": [
       "<Figure size 640x480 with 1 Axes>"
      ]
     },
     "metadata": {},
     "output_type": "display_data"
    }
   ],
   "source": [
    "plot = seaborn.barplot(x = 'Name_of_Depot_PR', y = 'Total_Punjab_Roadways_Buses', data = Bus_Fleet)\n",
    "# We have to rotate our x labels with the help of plt.xticks(rotation=90) because the labels were overlapping on each other\n",
    "plt.xticks(rotation=90)"
   ]
  },
  {
   "cell_type": "markdown",
   "id": "ddf55a55-7da1-450b-a36a-e17aa3b3b748",
   "metadata": {},
   "source": [
    "4. Plotting PUNBUS_Ordinary_GPS_enabled_buses_leyland"
   ]
  },
  {
   "cell_type": "code",
   "execution_count": 45,
   "id": "cd22f555-9a6b-427e-9b83-89f1197a16e7",
   "metadata": {},
   "outputs": [
    {
     "data": {
      "text/plain": [
       "([0, 1, 2, 3, 4, 5, 6, 7, 8, 9, 10, 11, 12, 13, 14, 15, 16, 17],\n",
       " [Text(0, 0, 'Chandigarh'),\n",
       "  Text(1, 0, 'Ropar'),\n",
       "  Text(2, 0, 'Ludhiana'),\n",
       "  Text(3, 0, 'Moga'),\n",
       "  Text(4, 0, 'Jagraon'),\n",
       "  Text(5, 0, 'Nangal'),\n",
       "  Text(6, 0, 'Jalandhar-1'),\n",
       "  Text(7, 0, 'Jalandhar-2'),\n",
       "  Text(8, 0, 'S.B.S.N'),\n",
       "  Text(9, 0, 'Batala'),\n",
       "  Text(10, 0, 'Pathankot'),\n",
       "  Text(11, 0, 'Hoshiarpur'),\n",
       "  Text(12, 0, 'Amritsar-1'),\n",
       "  Text(13, 0, 'Amritsar-2'),\n",
       "  Text(14, 0, 'TarnTaran'),\n",
       "  Text(15, 0, 'Patti'),\n",
       "  Text(16, 0, 'Ferozepur'),\n",
       "  Text(17, 0, 'Mukatsar')])"
      ]
     },
     "execution_count": 45,
     "metadata": {},
     "output_type": "execute_result"
    },
    {
     "data": {
      "image/png": "[encoded data removed]",
      "text/plain": [
       "<Figure size 640x480 with 1 Axes>"
      ]
     },
     "metadata": {},
     "output_type": "display_data"
    }
   ],
   "source": [
    "plot = seaborn.barplot(x = 'Name_of_Depot', y = 'PUNBUS_Ordinary_GPS_enabled_buses_leyland', data = Bus_Fleet)\n",
    "# We have to rotate our x labels with the help of plt.xticks(rotation=90) because the labels were overlapping on each other\n",
    "plt.xticks(rotation=90)"
   ]
  },
  {
   "cell_type": "markdown",
   "id": "d1425621-c8a2-438d-8126-bc29191cb5d2",
   "metadata": {},
   "source": [
    "5. Plotting PUNBUS_Ordinary_GPS_enabled_buses_TATA"
   ]
  },
  {
   "cell_type": "code",
   "execution_count": 47,
   "id": "6d7531c9-1959-44e2-b3e6-2eaf80f1e12c",
   "metadata": {},
   "outputs": [
    {
     "data": {
      "text/plain": [
       "([0, 1, 2, 3, 4, 5, 6, 7, 8, 9, 10, 11, 12, 13, 14, 15, 16, 17],\n",
       " [Text(0, 0, 'Chandigarh'),\n",
       "  Text(1, 0, 'Ropar'),\n",
       "  Text(2, 0, 'Ludhiana'),\n",
       "  Text(3, 0, 'Moga'),\n",
       "  Text(4, 0, 'Jagraon'),\n",
       "  Text(5, 0, 'Nangal'),\n",
       "  Text(6, 0, 'Jalandhar-1'),\n",
       "  Text(7, 0, 'Jalandhar-2'),\n",
       "  Text(8, 0, 'S.B.S.N'),\n",
       "  Text(9, 0, 'Batala'),\n",
       "  Text(10, 0, 'Pathankot'),\n",
       "  Text(11, 0, 'Hoshiarpur'),\n",
       "  Text(12, 0, 'Amritsar-1'),\n",
       "  Text(13, 0, 'Amritsar-2'),\n",
       "  Text(14, 0, 'TarnTaran'),\n",
       "  Text(15, 0, 'Patti'),\n",
       "  Text(16, 0, 'Ferozepur'),\n",
       "  Text(17, 0, 'Mukatsar')])"
      ]
     },
     "execution_count": 47,
     "metadata": {},
     "output_type": "execute_result"
    },
    {
     "data": {
      "image/png": "[encoded data removed]",
      "text/plain": [
       "<Figure size 640x480 with 1 Axes>"
      ]
     },
     "metadata": {},
     "output_type": "display_data"
    }
   ],
   "source": [
    "plot = seaborn.barplot(x = 'Name_of_Depot', y = 'PUNBUS_Ordinary_GPS_enabled_buses_TATA', data = Bus_Fleet)\n",
    "# We have to rotate our x labels with the help of plt.xticks(rotation=90) because the labels were overlapping on each other\n",
    "plt.xticks(rotation=90)"
   ]
  },
  {
   "cell_type": "markdown",
   "id": "17f30671-e519-454d-b481-ad53a890684c",
   "metadata": {},
   "source": [
    "#### Author\n",
    "[Tanmay](https://github.com/otanmayo \"Github Tanmay\")"
   ]
  }
 ],
 "metadata": {
  "kernelspec": {
   "display_name": "Python 3 (ipykernel)",
   "language": "python",
   "name": "python3"
  },
  "language_info": {
   "codemirror_mode": {
    "name": "ipython",
    "version": 3
   },
   "file_extension": ".py",
   "mimetype": "text/x-python",
   "name": "python",
   "nbconvert_exporter": "python",
   "pygments_lexer": "ipython3",
   "version": "3.12.4"
  }
 },
 "nbformat": 4,
 "nbformat_minor": 5
}
