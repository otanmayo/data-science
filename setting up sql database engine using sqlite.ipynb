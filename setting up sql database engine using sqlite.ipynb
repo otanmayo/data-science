{
 "cells": [
  {
   "cell_type": "markdown",
   "id": "41e06002-1488-4694-9c63-1cfd4d7db27e",
   "metadata": {},
   "source": [
    "# This notebook showcases how to establish a srverless transactional database engine using sqlite"
   ]
  },
  {
   "cell_type": "markdown",
   "id": "5387d658-3da1-4271-bfc0-f01864efbec5",
   "metadata": {},
   "source": [
    "## The first thing we need to do is to import sqlite3 into our notebook in some environment we might  we have to install sqlite3"
   ]
  },
  {
   "cell_type": "code",
   "execution_count": 3,
   "id": "660a38b1-478a-4b6c-b701-8bfdf63af36b",
   "metadata": {},
   "outputs": [],
   "source": [
    "#!pip install sqlite3  ##we can uncomment this line if we need to install sqlite\n",
    "import sqlite3"
   ]
  },
  {
   "cell_type": "markdown",
   "id": "918667d9-a457-4001-b14e-054b0daf75e2",
   "metadata": {},
   "source": [
    "## So after importing we can get started \n",
    "+ First we create a database and setup a connection to it.\n",
    "+ We can use sqlite3.connect('example.db') to set up the engine.\n",
    "+ We can also then assign an object name to our engine like here in example we have used conn as the object name, in some situation it can be very handy."
   ]
  },
  {
   "cell_type": "code",
   "execution_count": 5,
   "id": "b0ef9703-20ff-4969-a7ab-55294e0997e8",
   "metadata": {},
   "outputs": [],
   "source": [
    "conn = sqlite3.connect('Music.db')"
   ]
  },
  {
   "cell_type": "markdown",
   "id": "d70ab67e-13c9-4232-b225-8e02fad0eeea",
   "metadata": {},
   "source": [
    "## Cursor\n",
    "+ It is a control structure that helps us to interact with the database engine.\n",
    "+ in our database we can use cursor to trverse to different places in the database and perform tasks.\n",
    "+ we can assign the cursor to an object too like here for example we have beat = conn.cursor()."
   ]
  },
  {
   "cell_type": "code",
   "execution_count": 7,
   "id": "7afc597c-5c55-4c39-ab7f-23ead4de5b36",
   "metadata": {},
   "outputs": [],
   "source": [
    "beat = conn.cursor()"
   ]
  },
  {
   "cell_type": "markdown",
   "id": "79f727a2-deff-4e26-a90d-6a70a1bc59d4",
   "metadata": {},
   "source": [
    "## Now we can use the object that we created as cursor\n",
    "+ For example we will try to drop a table from our database\n",
    "+ Alongside with cursor we have to use execute to actually perform the task "
   ]
  },
  {
   "cell_type": "code",
   "execution_count": 9,
   "id": "268398cb-287a-4816-b94f-6707278ef416",
   "metadata": {},
   "outputs": [
    {
     "data": {
      "text/plain": [
       "<sqlite3.Cursor at 0x23804a8a040>"
      ]
     },
     "execution_count": 9,
     "metadata": {},
     "output_type": "execute_result"
    }
   ],
   "source": [
    "beat.execute(\"drop table if exists songs\")"
   ]
  },
  {
   "cell_type": "markdown",
   "id": "a2b6cc45-a182-4ac0-b7f5-db6fb6721bad",
   "metadata": {},
   "source": [
    "## Creating a table\n",
    "+ We can use strings to create a table\n",
    "+ since the table can be a multiline strings we use triple(\") to encose the string\n",
    "+ We can also assign the table to an object name "
   ]
  },
  {
   "cell_type": "code",
   "execution_count": 11,
   "id": "9aac6da4-6737-47d0-bfb8-827723bb6893",
   "metadata": {},
   "outputs": [],
   "source": [
    "list = \"\"\"create table if not exists Songs(id integer primary key not null, \n",
    "Song varchar(99), Album varchar(99), Artist varchar(99), Release date);\"\"\"\n"
   ]
  },
  {
   "cell_type": "markdown",
   "id": "0995efb7-62bc-44e8-b8a0-73a1e552afec",
   "metadata": {},
   "source": [
    "## Turning strings into sql queries\n",
    "+ As now we have a sql query as a string named list it can be excuted\n",
    "+ with the help of cursor i.e. beat and execute we can turn that string into an actual sql query and run it in the database"
   ]
  },
  {
   "cell_type": "code",
   "execution_count": 13,
   "id": "ccc18f5d-aa6f-4df1-8d98-064feb70e01d",
   "metadata": {},
   "outputs": [
    {
     "name": "stdout",
     "output_type": "stream",
     "text": [
      "list is ready\n"
     ]
    }
   ],
   "source": [
    "beat.execute(list)\n",
    "print(\"list is ready\")"
   ]
  },
  {
   "cell_type": "markdown",
   "id": "5e3c2d5c-3211-4079-a401-901ffcf02a01",
   "metadata": {},
   "source": [
    "## Querying the database and table\n",
    "+ Here we a example of insert statement as a string to be executed as sql query\n",
    "+ We can also do it like assigning the string to an object and then executing the object but adds redundant code"
   ]
  },
  {
   "cell_type": "code",
   "execution_count": 15,
   "id": "f64ffb6c-17d0-49d5-8530-d0b528ae6ff9",
   "metadata": {
    "scrolled": true
   },
   "outputs": [
    {
     "data": {
      "text/plain": [
       "<sqlite3.Cursor at 0x23804a8a040>"
      ]
     },
     "execution_count": 15,
     "metadata": {},
     "output_type": "execute_result"
    }
   ],
   "source": [
    "beat.execute('''insert into Songs values(1, \"Help Yourself\",\"Frank\", \"Amy Winehouse\", \"2003\"),\n",
    "(2, \"I Heard It Through Grapevine\", \"Cosmo's Factory\", \" Creedence Clearwater Revival\", \"1970\"),\n",
    "(3, \"Swimming Pools (Drank)\", \"Good Kid, M.A.A.D City\", \"Kendrick Lamar\", \"2012\"),\n",
    "(4, \"The Boy with the Thorn in His Side\", \"The Queen Is Dead\", \"The Smiths\", \"1986\"),\n",
    "(5, \"Runnin' with the Devil\",\"Van Halen\", \"Van Halen\", \"1978\") ''')"
   ]
  },
  {
   "cell_type": "markdown",
   "id": "93c41629-7fa4-44ce-89b1-f7306651488b",
   "metadata": {},
   "source": [
    "## Select statement\n",
    "+ We can select the data by making the cursor executing the select statement and fetching the data we\n",
    "+ but it would print our data like it does in sql environment"
   ]
  },
  {
   "cell_type": "code",
   "execution_count": 17,
   "id": "5bf7ad32-3c5a-415c-b834-fa8fcb4a3509",
   "metadata": {},
   "outputs": [
    {
     "data": {
      "text/plain": [
       "<sqlite3.Cursor at 0x23804a8a040>"
      ]
     },
     "execution_count": 17,
     "metadata": {},
     "output_type": "execute_result"
    }
   ],
   "source": [
    "beat.execute('select * from Songs;')"
   ]
  },
  {
   "cell_type": "markdown",
   "id": "2bc30fef-9de4-4b8c-8351-dbcd2587e65d",
   "metadata": {},
   "source": [
    "## Printing the data\n",
    "+ When the cursor have the data we can use a for loop to print the data\n",
    "+ We can assign the value of the cursor too to then run the loop in the object\n",
    "+ Here we have an example where for loop runs for every row in the cursor value\n",
    "+ fetchall() is use for frtching all of the values present at the cursor value"
   ]
  },
  {
   "cell_type": "code",
   "execution_count": 19,
   "id": "cf276488-c6f3-4501-906d-46fec11c1c4f",
   "metadata": {},
   "outputs": [
    {
     "name": "stdout",
     "output_type": "stream",
     "text": [
      "(1, 'Help Yourself', 'Frank', 'Amy Winehouse', 2003)\n",
      "(2, 'I Heard It Through Grapevine', \"Cosmo's Factory\", ' Creedence Clearwater Revival', 1970)\n",
      "(3, 'Swimming Pools (Drank)', 'Good Kid, M.A.A.D City', 'Kendrick Lamar', 2012)\n",
      "(4, 'The Boy with the Thorn in His Side', 'The Queen Is Dead', 'The Smiths', 1986)\n",
      "(5, \"Runnin' with the Devil\", 'Van Halen', 'Van Halen', 1978)\n"
     ]
    }
   ],
   "source": [
    "for rows in beat.fetchall():\n",
    " print(rows)"
   ]
  },
  {
   "cell_type": "markdown",
   "id": "314d8757-83b7-4b88-aaed-2a7608e22b10",
   "metadata": {},
   "source": [
    "## Selecting few values from the table\n",
    "+ Here we have selected the 3 values from the table"
   ]
  },
  {
   "cell_type": "code",
   "execution_count": 21,
   "id": "929ec057-9bc8-4218-8521-3bcc5dec1baa",
   "metadata": {},
   "outputs": [
    {
     "name": "stdout",
     "output_type": "stream",
     "text": [
      "('Frank',)\n",
      "(\"Cosmo's Factory\",)\n",
      "('Good Kid, M.A.A.D City',)\n"
     ]
    }
   ],
   "source": [
    "beat.execute('select Album from Songs;')\n",
    "for rows in beat.fetchmany(3):\n",
    " print(rows)"
   ]
  },
  {
   "cell_type": "markdown",
   "id": "10889b16-74a4-41de-b3d4-32c539196a3d",
   "metadata": {},
   "source": [
    "## Update statement"
   ]
  },
  {
   "cell_type": "code",
   "execution_count": 23,
   "id": "e2f0aa3d-b964-406e-a1af-6e3ed5923bc5",
   "metadata": {},
   "outputs": [
    {
     "data": {
      "text/plain": [
       "<sqlite3.Cursor at 0x23804a8a040>"
      ]
     },
     "execution_count": 23,
     "metadata": {},
     "output_type": "execute_result"
    }
   ],
   "source": [
    "beat.execute('update Songs set Song = \"Swimming Pools(Drank)\" where Song = \"Swimming Pools (Drank)\"')"
   ]
  },
  {
   "cell_type": "markdown",
   "id": "4f2ad7f5-ef71-42dd-b5d7-fd0156ccc72b",
   "metadata": {},
   "source": [
    "## Select statement forn one column with limit and offset"
   ]
  },
  {
   "cell_type": "code",
   "execution_count": 25,
   "id": "6810b697-c10c-4703-97b6-12e8da2ca32b",
   "metadata": {},
   "outputs": [
    {
     "name": "stdout",
     "output_type": "stream",
     "text": [
      "('The Queen Is Dead',)\n",
      "('Van Halen',)\n"
     ]
    }
   ],
   "source": [
    "beat.execute('select Album from Songs limit 2 offset 3;')\n",
    "for rows in beat.fetchall():\n",
    " print(rows)\n",
    " "
   ]
  },
  {
   "cell_type": "markdown",
   "id": "2bfbb427-e4c3-4e40-8143-da7e4043a2c4",
   "metadata": {},
   "source": [
    "## Integrating sqlite and pandas\n",
    "+ First we import pandas if we have not donne it yet"
   ]
  },
  {
   "cell_type": "code",
   "execution_count": 27,
   "id": "64e8ab44-b3d1-4303-a1d4-35777aec5775",
   "metadata": {},
   "outputs": [],
   "source": [
    "import pandas as pd"
   ]
  },
  {
   "cell_type": "markdown",
   "id": "081533c5-6f25-4b3a-8f97-49a7f9ee8da1",
   "metadata": {},
   "source": [
    "## Creating a dataframe \n",
    "+ We can use pd.read_sql_query to convert our table into dataframe\n",
    "+ We can store the data into an object then we can perform all the pandas function into it."
   ]
  },
  {
   "cell_type": "code",
   "execution_count": 29,
   "id": "4ae404af-e04e-4e18-88df-30fedb911488",
   "metadata": {},
   "outputs": [
    {
     "data": {
      "text/html": [
       "<div>\n",
       "<style scoped>\n",
       "    .dataframe tbody tr th:only-of-type {\n",
       "        vertical-align: middle;\n",
       "    }\n",
       "\n",
       "    .dataframe tbody tr th {\n",
       "        vertical-align: top;\n",
       "    }\n",
       "\n",
       "    .dataframe thead th {\n",
       "        text-align: right;\n",
       "    }\n",
       "</style>\n",
       "<table border=\"1\" class=\"dataframe\">\n",
       "  <thead>\n",
       "    <tr style=\"text-align: right;\">\n",
       "      <th></th>\n",
       "      <th>id</th>\n",
       "      <th>Song</th>\n",
       "      <th>Album</th>\n",
       "      <th>Artist</th>\n",
       "      <th>Release</th>\n",
       "    </tr>\n",
       "  </thead>\n",
       "  <tbody>\n",
       "    <tr>\n",
       "      <th>0</th>\n",
       "      <td>1</td>\n",
       "      <td>Help Yourself</td>\n",
       "      <td>Frank</td>\n",
       "      <td>Amy Winehouse</td>\n",
       "      <td>2003</td>\n",
       "    </tr>\n",
       "    <tr>\n",
       "      <th>1</th>\n",
       "      <td>2</td>\n",
       "      <td>I Heard It Through Grapevine</td>\n",
       "      <td>Cosmo's Factory</td>\n",
       "      <td>Creedence Clearwater Revival</td>\n",
       "      <td>1970</td>\n",
       "    </tr>\n",
       "    <tr>\n",
       "      <th>2</th>\n",
       "      <td>3</td>\n",
       "      <td>Swimming Pools(Drank)</td>\n",
       "      <td>Good Kid, M.A.A.D City</td>\n",
       "      <td>Kendrick Lamar</td>\n",
       "      <td>2012</td>\n",
       "    </tr>\n",
       "    <tr>\n",
       "      <th>3</th>\n",
       "      <td>4</td>\n",
       "      <td>The Boy with the Thorn in His Side</td>\n",
       "      <td>The Queen Is Dead</td>\n",
       "      <td>The Smiths</td>\n",
       "      <td>1986</td>\n",
       "    </tr>\n",
       "    <tr>\n",
       "      <th>4</th>\n",
       "      <td>5</td>\n",
       "      <td>Runnin' with the Devil</td>\n",
       "      <td>Van Halen</td>\n",
       "      <td>Van Halen</td>\n",
       "      <td>1978</td>\n",
       "    </tr>\n",
       "  </tbody>\n",
       "</table>\n",
       "</div>"
      ],
      "text/plain": [
       "   id                                Song                   Album  \\\n",
       "0   1                       Help Yourself                   Frank   \n",
       "1   2        I Heard It Through Grapevine         Cosmo's Factory   \n",
       "2   3               Swimming Pools(Drank)  Good Kid, M.A.A.D City   \n",
       "3   4  The Boy with the Thorn in His Side       The Queen Is Dead   \n",
       "4   5              Runnin' with the Devil               Van Halen   \n",
       "\n",
       "                          Artist  Release  \n",
       "0                  Amy Winehouse     2003  \n",
       "1   Creedence Clearwater Revival     1970  \n",
       "2                 Kendrick Lamar     2012  \n",
       "3                     The Smiths     1986  \n",
       "4                      Van Halen     1978  "
      ]
     },
     "execution_count": 29,
     "metadata": {},
     "output_type": "execute_result"
    }
   ],
   "source": [
    "df = pd.read_sql_query('select * from Songs;', conn)\n",
    "df"
   ]
  },
  {
   "cell_type": "markdown",
   "id": "d3e98312-63a6-4f45-96bb-51b65303a522",
   "metadata": {},
   "source": [
    "## Selecting a column with pandas"
   ]
  },
  {
   "cell_type": "code",
   "execution_count": 31,
   "id": "d1d1dd1f-f45e-493e-9bcf-c8f1881c9330",
   "metadata": {},
   "outputs": [
    {
     "data": {
      "text/plain": [
       "0                     Frank\n",
       "1           Cosmo's Factory\n",
       "2    Good Kid, M.A.A.D City\n",
       "3         The Queen Is Dead\n",
       "4                 Van Halen\n",
       "Name: Album, dtype: object"
      ]
     },
     "execution_count": 31,
     "metadata": {},
     "output_type": "execute_result"
    }
   ],
   "source": [
    "df.Album"
   ]
  },
  {
   "cell_type": "markdown",
   "id": "96e75397-6e63-442a-9493-dc052e32ed0e",
   "metadata": {},
   "source": [
    "## Selecting with help of index in pandas to a certain point"
   ]
  },
  {
   "cell_type": "code",
   "execution_count": 33,
   "id": "df916559-095b-4910-8f51-061a8e71e625",
   "metadata": {},
   "outputs": [
    {
     "data": {
      "text/plain": [
       "0              Frank\n",
       "1    Cosmo's Factory\n",
       "Name: Album, dtype: object"
      ]
     },
     "execution_count": 33,
     "metadata": {},
     "output_type": "execute_result"
    }
   ],
   "source": [
    "df.Album[0:2]"
   ]
  },
  {
   "cell_type": "markdown",
   "id": "8884df23-03c9-414d-82af-3c41b79f8d25",
   "metadata": {},
   "source": [
    "## The structure of the dataframe"
   ]
  },
  {
   "cell_type": "code",
   "execution_count": 35,
   "id": "b6a11a38-7de5-478d-a913-33405f6a603e",
   "metadata": {},
   "outputs": [
    {
     "data": {
      "text/plain": [
       "(5, 5)"
      ]
     },
     "execution_count": 35,
     "metadata": {},
     "output_type": "execute_result"
    }
   ],
   "source": [
    "df.shape"
   ]
  },
  {
   "cell_type": "markdown",
   "id": "539cef4e-9ec5-4364-8214-b8ac0b88089e",
   "metadata": {},
   "source": [
    "## Closing our connection with engine\n",
    "+ When we are done then we can close our connection to free up resources"
   ]
  },
  {
   "cell_type": "code",
   "execution_count": 37,
   "id": "e7a11af2-c132-4f5c-84ff-2ad75b364dc1",
   "metadata": {},
   "outputs": [],
   "source": [
    "conn.close()"
   ]
  },
  {
   "cell_type": "markdown",
   "id": "7ac86ce2-e7a1-4562-9a18-b5d7a4884c1e",
   "metadata": {},
   "source": [
    "#### Author\n",
    "[Tanmay](https://github.com/otanmayo \"Tanmay\")"
   ]
  },
  {
   "cell_type": "code",
   "execution_count": null,
   "id": "9e677404-887e-48b1-82be-8a236f875823",
   "metadata": {},
   "outputs": [],
   "source": []
  }
 ],
 "metadata": {
  "kernelspec": {
   "display_name": "Python 3 (ipykernel)",
   "language": "python",
   "name": "python3"
  },
  "language_info": {
   "codemirror_mode": {
    "name": "ipython",
    "version": 3
   },
   "file_extension": ".py",
   "mimetype": "text/x-python",
   "name": "python",
   "nbconvert_exporter": "python",
   "pygments_lexer": "ipython3",
   "version": "3.12.4"
  }
 },
 "nbformat": 4,
 "nbformat_minor": 5
}
