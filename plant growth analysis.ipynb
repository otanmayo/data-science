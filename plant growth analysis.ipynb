{
 "cells": [
  {
   "cell_type": "markdown",
   "id": "0bdba19d-2ecd-4896-bca8-97e2e7e15690",
   "metadata": {},
   "source": [
    "# Analyzing a real world data-set with SQL and Python"
   ]
  },
  {
   "cell_type": "markdown",
   "id": "04df67ce-0af4-45a6-8a88-161a99705efc",
   "metadata": {},
   "source": [
    "## About Notebook\n",
    "**The purpose of this notebook is to perform exploratory data analysis on real world data-set. The data set I have used in this notebook is from [kaggle](kaggle.com, \"kaggle\") this data set is about the growth milestone of the plants based on the provided different environmental and management factors.\n",
    "You can download the data set from this https://www.kaggle.com/datasets/gorororororo23/plant-growth-data-classification link**\n"
   ]
  },
  {
   "cell_type": "markdown",
   "id": "a7885599-ecd2-4c50-9599-e30553d808fa",
   "metadata": {},
   "source": [
    "### Importing necessary libraries"
   ]
  },
  {
   "cell_type": "code",
   "execution_count": null,
   "id": "2ed6ae3b-98ad-4f72-9104-66c371b6a0e0",
   "metadata": {},
   "outputs": [],
   "source": [
    "import pandas as pd\n",
    "import csv\n",
    "import sqlite3"
   ]
  },
  {
   "cell_type": "markdown",
   "id": "10e222c0-c081-4f85-b5ed-46eb69e32d41",
   "metadata": {},
   "source": [
    "## Reading the csv file in the notebook"
   ]
  },
  {
   "cell_type": "code",
   "execution_count": null,
   "id": "f25e6e8d-cb28-49df-8c52-eaaa8133e5ef",
   "metadata": {},
   "outputs": [],
   "source": [
    "df = pd.read_csv('Downloads/plant_growth_data.csv')"
   ]
  },
  {
   "cell_type": "markdown",
   "id": "b6727c83-4fc6-4082-a051-180c57ead9b5",
   "metadata": {},
   "source": [
    "## Here about the description of the columns\n",
    "+ **Soil_Type:** The type or composition of soil in which the plants are grown.\n",
    "+ **Sunlight_Hours:** The duration or intensity of sunlight exposure received by the plants.\n",
    "+ **Water_Frequency:** How often the plants are watered, indicating the watering schedule.\n",
    "+ **Fertilizer_Type:** The type of fertilizer used for nourishing the plants.\n",
    "+ **Temperature:** The ambient temperature conditions under which the plants are grown.\n",
    "+ **Humidity:** The level of moisture or humidity in the environment surrounding the plants.\n",
    "+ **Growth_Milestone:** Descriptions or markers indicating stages or significant events in the growth process of the plants."
   ]
  },
  {
   "cell_type": "code",
   "execution_count": null,
   "id": "a7e9b49c-8347-4e52-85a6-69bc8e8500b4",
   "metadata": {},
   "outputs": [],
   "source": [
    "df"
   ]
  },
  {
   "cell_type": "markdown",
   "id": "e2b307ce-1068-4203-b051-3f40d69c6d0e",
   "metadata": {},
   "source": [
    "## Setting Database Engine"
   ]
  },
  {
   "cell_type": "code",
   "execution_count": null,
   "id": "a60be288-9eec-4772-aa0f-7fca0b907114",
   "metadata": {},
   "outputs": [],
   "source": [
    "con = sqlite3.connect('classification.db')\n",
    "cur = con.cursor()"
   ]
  },
  {
   "cell_type": "markdown",
   "id": "2131aa2f-c92c-4359-be31-ccdb3b9ad9d5",
   "metadata": {},
   "source": [
    "## Loading SQL magic\n",
    "+ As we are using sql for analysis we have to load sql magic so we can use sql queries in here"
   ]
  },
  {
   "cell_type": "code",
   "execution_count": null,
   "id": "462072e0-5001-46e6-a4b9-6d0049950718",
   "metadata": {},
   "outputs": [],
   "source": [
    "%load_ext sql"
   ]
  },
  {
   "cell_type": "markdown",
   "id": "eec6fa86-754f-449c-8bdf-9f52fcdf5cff",
   "metadata": {},
   "source": [
    "## Establishing a connection between sql magic and our database "
   ]
  },
  {
   "cell_type": "code",
   "execution_count": null,
   "id": "79e95bc4-55de-4e4c-a102-81c946e3300e",
   "metadata": {},
   "outputs": [],
   "source": [
    "%sql sqlite:///classification.db"
   ]
  },
  {
   "cell_type": "markdown",
   "id": "bd4e3b88-5a2b-4fbc-a8c7-d7e7f4878c0e",
   "metadata": {},
   "source": [
    "## Converting the dataframe to a table"
   ]
  },
  {
   "cell_type": "code",
   "execution_count": null,
   "id": "61605c40-aa49-41d1-b088-c1f6d9887655",
   "metadata": {},
   "outputs": [],
   "source": [
    "df.to_sql(\"plant_growth_data\", con, if_exists = 'replace', index = False, method = 'multi')"
   ]
  },
  {
   "cell_type": "markdown",
   "id": "107a210b-16bf-4282-90f1-56874f067f27",
   "metadata": {},
   "source": [
    "## Data Analysis"
   ]
  },
  {
   "cell_type": "markdown",
   "id": "856c9f63-57e4-43d3-b7a0-f29b5b112196",
   "metadata": {},
   "source": [
    "#### 1. Glimpse of the table"
   ]
  },
  {
   "cell_type": "code",
   "execution_count": null,
   "id": "6adce0a7-d7b3-4a65-af73-63d30e1d849d",
   "metadata": {},
   "outputs": [],
   "source": [
    "%sql select * from plant_growth_data limit 5;"
   ]
  },
  {
   "cell_type": "markdown",
   "id": "37f55e85-8ad2-427a-98c3-ab16e7de1fe7",
   "metadata": {},
   "source": [
    "#### 2. How many rows are in the table"
   ]
  },
  {
   "cell_type": "code",
   "execution_count": null,
   "id": "845760e9-72fb-4efd-b5a8-c0881b0dfd87",
   "metadata": {},
   "outputs": [],
   "source": [
    "%sql select count(*) as 'number of rows' from plant_growth_data;"
   ]
  },
  {
   "cell_type": "markdown",
   "id": "f86ccb80-9c0d-4d2d-9f89-9cef37e622dd",
   "metadata": {},
   "source": [
    "#### 3. Number of plants with differe nt watering frequency that have growth milestone 1"
   ]
  },
  {
   "cell_type": "code",
   "execution_count": null,
   "id": "b41dc198-02fc-4348-a7bf-9b4c63907109",
   "metadata": {},
   "outputs": [],
   "source": [
    "%sql select Water_Frequency, count(*) as 'Number of PLants' from plant_growth_data where Growth_Milestone = 1 group by Water_frequency;"
   ]
  },
  {
   "cell_type": "markdown",
   "id": "564c01d1-5aeb-404d-9cf5-14bd6e07d34b",
   "metadata": {},
   "source": [
    "#### 4. Maximum and Minimum Humidity"
   ]
  },
  {
   "cell_type": "code",
   "execution_count": null,
   "id": "598392f7-cec5-48aa-a110-e196129ffc24",
   "metadata": {},
   "outputs": [],
   "source": [
    "%sql select min(Humidity) as 'Min. Hmidity', max(Humidity) as 'Max. Humidity' from plant_growth_data;"
   ]
  },
  {
   "cell_type": "markdown",
   "id": "cce76b87-8639-4fb5-acf1-0c45a28ff437",
   "metadata": {},
   "source": [
    "#### 5. Maximum and Minimum Temperature"
   ]
  },
  {
   "cell_type": "code",
   "execution_count": null,
   "id": "7bdb60ff-0ff6-44da-92e6-eac30de69c89",
   "metadata": {},
   "outputs": [],
   "source": [
    "%sql select min(Temperature) as 'Min. Temperature', max(Temperature) as 'Max. Temperature' from plant_growth_data;"
   ]
  },
  {
   "cell_type": "markdown",
   "id": "4e41bae2-9179-49ef-8266-397846df3810",
   "metadata": {},
   "source": [
    "#### 6. Maximum and Minimum Sunlight_Hours"
   ]
  },
  {
   "cell_type": "code",
   "execution_count": null,
   "id": "faafc252-2066-4045-a9c4-bd6ced037ce9",
   "metadata": {},
   "outputs": [],
   "source": [
    "%sql select min(Sunlight_Hours) as 'Min. Sunlight_Hours', max(Sunlight_Hours) as 'Max. Sunlight_Hours' from plant_growth_data;"
   ]
  },
  {
   "cell_type": "markdown",
   "id": "69727562-d259-4873-a764-e08c4bc76372",
   "metadata": {},
   "source": [
    "#### 7. Number of cases where plants showed either growth or no growth\n",
    "+  Cases with growth events are denoted by 1 and opposite with 0 "
   ]
  },
  {
   "cell_type": "code",
   "execution_count": null,
   "id": "102ba872-e6c6-4977-8235-6d6f057d112d",
   "metadata": {},
   "outputs": [],
   "source": [
    "%sql select Growth_Milestone, count(*) as 'No. of Plants' from plant_growth_data group by Growth_Milestone;"
   ]
  },
  {
   "cell_type": "markdown",
   "id": "db45ea52-e7e6-4f93-b86f-e66f36969059",
   "metadata": {},
   "source": [
    "#### 8. Number of cases where plants with different soil types that have growth milestone 1"
   ]
  },
  {
   "cell_type": "code",
   "execution_count": null,
   "id": "bf29d822-afce-4c49-8f25-b177ad611961",
   "metadata": {},
   "outputs": [],
   "source": [
    "%sql select Soil_Type, count(*) as 'No. of Plants' from plant_growth_data where Growth_Milestone = 1 group by Soil_Type;"
   ]
  },
  {
   "cell_type": "markdown",
   "id": "736dcf79-7bc9-45fa-82cb-ad386f676110",
   "metadata": {},
   "source": [
    "#### 9. Number of cases where plants with different Fertilizer types that have growth milestone 1"
   ]
  },
  {
   "cell_type": "code",
   "execution_count": null,
   "id": "9240f72e-4735-4344-ad3b-27670209c406",
   "metadata": {},
   "outputs": [],
   "source": [
    "%sql select Fertilizer_Type, count(*) as 'No. of Plants' from plant_growth_data where Growth_Milestone = 1 group by Fertilizer_Type;"
   ]
  },
  {
   "cell_type": "markdown",
   "id": "01766e22-5896-4a4d-91d5-103ac9e284ec",
   "metadata": {},
   "source": [
    "## Analyzing Data by Visualizing It"
   ]
  },
  {
   "cell_type": "markdown",
   "id": "1736a683-f50e-4b7d-b26d-cc75b78eab68",
   "metadata": {},
   "source": [
    "### Importin Libraries for Visualisation"
   ]
  },
  {
   "cell_type": "code",
   "execution_count": null,
   "id": "a571dfca-6fd7-49fe-ab89-d5703a0b8726",
   "metadata": {},
   "outputs": [],
   "source": [
    "import matplotlib.pyplot as plt\n",
    "%matplotlib inline\n",
    "import seaborn as sns"
   ]
  },
  {
   "cell_type": "markdown",
   "id": "2b6b6fa1-e11e-4f87-8545-a2b4c3578054",
   "metadata": {},
   "source": [
    "#### 1. Relationship between Sunlight Hours and Water Frequency"
   ]
  },
  {
   "cell_type": "code",
   "execution_count": null,
   "id": "7e5283a9-88c8-4490-9fd4-1ca313c8c018",
   "metadata": {},
   "outputs": [],
   "source": [
    "lw = %sql select Sunlight_Hours, Water_Frequency from plant_growth_data;\n",
    "plot = sns.jointplot(x = 'Water_Frequency', y = 'Sunlight_Hours', data = lw.DataFrame())"
   ]
  },
  {
   "cell_type": "markdown",
   "id": "fc7f25bf-2b28-4da8-a340-dc9b10f29fab",
   "metadata": {},
   "source": [
    "+ From the plot of Sunlight_Hours and  Water_Frequency we can say that here the plants that were in sunlight for 5 to 6 hours and were watered daily are more in the data-set."
   ]
  },
  {
   "cell_type": "markdown",
   "id": "7538e42e-8df1-4195-89bb-ef51020adb5e",
   "metadata": {},
   "source": [
    "#### 2. Relatioship between growth against water frequency and sunlight hours"
   ]
  },
  {
   "cell_type": "code",
   "execution_count": null,
   "id": "8ccd8af3-ebb8-4f4b-8e06-ca9b8c53c867",
   "metadata": {},
   "outputs": [],
   "source": [
    "lg = %sql select Sunlight_Hours, Growth_Milestone from plant_growth_data;\n",
    "plot = sns.jointplot(x = 'Growth_Milestone', y = 'Sunlight_Hours', data = lg.DataFrame())\n",
    "#Water_Frequency\n",
    "wg = %sql select Water_Frequency, Growth_Milestone from plant_growth_data;\n",
    "plot = sns.jointplot(x = 'Growth_Milestone', y = 'Water_Frequency', data = wg.DataFrame())"
   ]
  },
  {
   "cell_type": "markdown",
   "id": "4b39ae26-a911-44c2-a6b4-ca1dc60e5114",
   "metadata": {},
   "source": [
    "+ From the plots above we can conclude that the rate of growth event happening for the plants in the dataset is almost 50% for the given water frequency and sunlight hours in the data-set."
   ]
  },
  {
   "cell_type": "markdown",
   "id": "b1334c66-f14d-47c7-9304-6ea7df7c4dae",
   "metadata": {},
   "source": [
    "### 3. Relationship between Soil Type and Growth Event"
   ]
  },
  {
   "cell_type": "code",
   "execution_count": null,
   "id": "71bd4d3e-1920-42b9-95af-7ded2339075a",
   "metadata": {},
   "outputs": [],
   "source": [
    "sg = %sql select Soil_Type, Growth_Milestone from plant_growth_data;\n",
    "plot = sns.jointplot(x = 'Growth_Milestone', y = 'Soil_Type', data = sg.DataFrame())"
   ]
  },
  {
   "cell_type": "markdown",
   "id": "6af77760-48e7-4e47-8b67-503102dc58c0",
   "metadata": {},
   "source": [
    "+ Here the possibility of the growth event happening or not happening is almost 50%"
   ]
  },
  {
   "cell_type": "code",
   "execution_count": null,
   "id": "4cca39bb-dcdb-484c-a798-567daf097f29",
   "metadata": {},
   "outputs": [],
   "source": [
    "#Fertilizer_Type\n",
    "fg = %sql select Fertilizer_Type, Growth_Milestone from plant_growth_data;\n",
    "plot = sns.jointplot(x = 'Growth_Milestone', y = 'Fertilizer_Type', data = fg.DataFrame())\n",
    "#Temperature\n",
    "tg = %sql select Temperature, Growth_Milestone from plant_growth_data;\n",
    "plot = sns.jointplot(x = 'Growth_Milestone', y = 'Temperature', data = tg.DataFrame())\n",
    "\n",
    "hg = %sql select Humidity, Growth_Milestone from plant_growth_data;\n",
    "plot = sns.jointplot(x = 'Growth_Milestone', y = 'Humidity', data = hg.DataFrame())"
   ]
  },
  {
   "cell_type": "markdown",
   "id": "ca61bff4-24a3-4c64-8668-1564342ddb1f",
   "metadata": {},
   "source": [
    "+ Again we see almost 50% rate for growth event happening or notand we also found out that chances of a growth event not happening increases around 35 celcius and at humidity near 80."
   ]
  },
  {
   "cell_type": "markdown",
   "id": "2cf641a1-20cb-4cbd-bf52-f8479dd4bf84",
   "metadata": {},
   "source": [
    "## Conclusion\n",
    "**From all the analysis that I did I can say that the rate of growth event happening in the data-set is nearly 50%. Although sunlight is important for plants but if we expose them to too much sunlight then it can hider the plant's growth. I also found out that high temeratures and high levels of humidity can also obstruct the growth of the plant. If we want to have a thriving plant then we should water it daily and use organic fertilizer and make sure we plant it in loam soil type**\n"
   ]
  },
  {
   "cell_type": "code",
   "execution_count": null,
   "id": "c608bb79-0fdc-4894-bd76-17cc657998e6",
   "metadata": {},
   "outputs": [],
   "source": [
    "con.close()"
   ]
  },
  {
   "cell_type": "markdown",
   "id": "228eafe1-08e3-4a2b-8da5-520898876a42",
   "metadata": {},
   "source": [
    "#### Author\n",
    "[Tanmay](https://github.com/otanmayo \"Github Tanmay\")"
   ]
  }
 ],
 "metadata": {
  "kernelspec": {
   "display_name": "Python 3 (ipykernel)",
   "language": "python",
   "name": "python3"
  },
  "language_info": {
   "codemirror_mode": {
    "name": "ipython",
    "version": 3
   },
   "file_extension": ".py",
   "mimetype": "text/x-python",
   "name": "python",
   "nbconvert_exporter": "python",
   "pygments_lexer": "ipython3",
   "version": "3.12.4"
  }
 },
 "nbformat": 4,
 "nbformat_minor": 5
}
